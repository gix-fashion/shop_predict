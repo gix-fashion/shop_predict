{
 "cells": [
  {
   "cell_type": "code",
   "execution_count": 1,
   "metadata": {},
   "outputs": [
    {
     "name": "stderr",
     "output_type": "stream",
     "text": [
      "Using TensorFlow backend.\n"
     ]
    }
   ],
   "source": [
    "import pandas as pd\n",
    "import numpy as np\n",
    "from math import sqrt\n",
    "from numpy import concatenate\n",
    "from matplotlib import pyplot as plt\n",
    "from pandas import read_csv,DataFrame,concat\n",
    "\n",
    "from sklearn.preprocessing import LabelEncoder,MinMaxScaler\n",
    "\n",
    "from sklearn.metrics import mean_squared_error\n",
    "from keras.models import Sequential\n",
    "from keras.layers import Dense,LSTM\n",
    "\n",
    "import os\n",
    "path='E:\\【ML_DL】\\【服装项目】\\dataset\\shopN\\data\\shop_'"
   ]
  },
  {
   "cell_type": "markdown",
   "metadata": {},
   "source": [
    "销售数据取自data_full.7z中的'sale_XXX.csv'系列csv文件，将所有sale数据进行合并。一共有638家店铺，其中取出：拥有数据数目大于100条可以用于lstm时序预测、以及日期可以满足预测条件的店铺，用shop_newest_len100表示       "
   ]
  },
  {
   "cell_type": "code",
   "execution_count": 2,
   "metadata": {},
   "outputs": [],
   "source": [
    "shop_newest_len100 = [1, 2, 3, 4, 5, 6, 7, 11, 12, 13, 14, 15, 16, 18, 19, 20, 21, 22, 24, 25, 31, 32, 33, 34, 35, 36, 37, 38, 39, 40, 41, 42, 43, 44, 45, 47, 48, 49, 51, 52, 54, 56, 57, 58, 59, 61, 62, 63, 64, 65, 69, 70, 72, 75, 76, 77, 78, 81, 83, 85, 86, 88, 89, 90, 91, 93, 94, 95, 100, 101, 105, 106, 107, 110, 111, 114, 115, 121, 122, 125, 127, 128, 132, 133, 134, 135, 146, 147, 151, 156, 157, 158, 159, 160, 162, 163, 164, 167, 169, 170, 172, 178, 179, 183, 185, 186, 189, 196, 199, 200, 201, 205, 206, 209, 218, 221, 223, 225, 233, 234, 237, 239, 246, 250, 260, 272, 299, 308, 311, 321, 451, 481]"
   ]
  },
  {
   "cell_type": "markdown",
   "metadata": {},
   "source": [
    "保存每个店铺的数据长度"
   ]
  },
  {
   "cell_type": "code",
   "execution_count": 3,
   "metadata": {},
   "outputs": [],
   "source": [
    "shop_length = []# 保存每个店铺的数据长度\n",
    "for id in shop_newest_len100:\n",
    "    df = pd.read_csv(path+str(id)+'.csv',low_memory=False)\n",
    "    shop_length.append(len(df))"
   ]
  },
  {
   "cell_type": "code",
   "execution_count": 4,
   "metadata": {},
   "outputs": [
    {
     "data": {
      "text/plain": [
       "[225, 558, 558, 446, 366, 331, 513, 177, 362, 497]"
      ]
     },
     "execution_count": 4,
     "metadata": {},
     "output_type": "execute_result"
    }
   ],
   "source": [
    "shop_length[:10]"
   ]
  },
  {
   "cell_type": "code",
   "execution_count": 2,
   "metadata": {},
   "outputs": [],
   "source": [
    "# convert series to supervised learning\n",
    "def series_to_supervised(data, n_in=1, n_out=1, dropnan=True):\n",
    "    n_vars = 1 if type(data) is list else data.shape[1]\n",
    "    df = DataFrame(data)\n",
    "    cols, names = list(), list()\n",
    "    # input sequence (t-n, ... t-1)\n",
    "    for i in range(n_in, 0, -1):\n",
    "        cols.append(df.shift(i))\n",
    "        names += [('var%d(t-%d)' % (j+1, i)) for j in range(n_vars)]\n",
    "    # forecast sequence (t, t+1, ... t+n)\n",
    "    for i in range(0, n_out):\n",
    "        cols.append(df.shift(-i))\n",
    "        if i == 0:\n",
    "            names += [('var%d(t)' % (j+1)) for j in range(n_vars)]\n",
    "        else:\n",
    "            names += [('var%d(t+%d)' % (j+1, i)) for j in range(n_vars)]\n",
    "    # put it all together\n",
    "    agg = concat(cols, axis=1)\n",
    "    agg.columns = names\n",
    "    # drop rows with NaN values\n",
    "    if dropnan:\n",
    "        agg.dropna(inplace=True)\n",
    "    return agg\n",
    "\n",
    "# 定义相对误差的计算\n",
    "def mean_squared_error01(a,b):\n",
    "    e=[]\n",
    "    for i in range(len(a)):\n",
    "        dif = a[i]-b[i]\n",
    "        e1 = abs(dif / b[i])\n",
    "        e.append(e1)\n",
    "    return e"
   ]
  },
  {
   "cell_type": "markdown",
   "metadata": {},
   "source": [
    "这里随机选取第3个店铺进行展示"
   ]
  },
  {
   "cell_type": "code",
   "execution_count": 5,
   "metadata": {},
   "outputs": [
    {
     "data": {
      "text/plain": [
       "558"
      ]
     },
     "execution_count": 5,
     "metadata": {},
     "output_type": "execute_result"
    }
   ],
   "source": [
    "id = 3# 这里随机选取第7个店铺进行展示\n",
    "df = pd.read_csv(path+str(id)+'.csv',low_memory=False)\n",
    "# df=df.drop(['sale_date'],axis=1)\n",
    "len(df)"
   ]
  },
  {
   "cell_type": "markdown",
   "metadata": {},
   "source": [
    "数据清洗"
   ]
  },
  {
   "cell_type": "code",
   "execution_count": 6,
   "metadata": {},
   "outputs": [
    {
     "data": {
      "text/plain": [
       "550"
      ]
     },
     "execution_count": 6,
     "metadata": {},
     "output_type": "execute_result"
    }
   ],
   "source": [
    "df=df.dropna()\n",
    "df=df[df['sale_price']!=0]\n",
    "len(df)"
   ]
  },
  {
   "cell_type": "code",
   "execution_count": 7,
   "metadata": {},
   "outputs": [
    {
     "data": {
      "text/html": [
       "<div>\n",
       "<style scoped>\n",
       "    .dataframe tbody tr th:only-of-type {\n",
       "        vertical-align: middle;\n",
       "    }\n",
       "\n",
       "    .dataframe tbody tr th {\n",
       "        vertical-align: top;\n",
       "    }\n",
       "\n",
       "    .dataframe thead th {\n",
       "        text-align: right;\n",
       "    }\n",
       "</style>\n",
       "<table border=\"1\" class=\"dataframe\">\n",
       "  <thead>\n",
       "    <tr style=\"text-align: right;\">\n",
       "      <th></th>\n",
       "      <th>sale_date</th>\n",
       "      <th>sale_price</th>\n",
       "      <th>Quantity</th>\n",
       "    </tr>\n",
       "  </thead>\n",
       "  <tbody>\n",
       "    <tr>\n",
       "      <th>0</th>\n",
       "      <td>2008-02-25</td>\n",
       "      <td>11498.0</td>\n",
       "      <td>32.0</td>\n",
       "    </tr>\n",
       "    <tr>\n",
       "      <th>1</th>\n",
       "      <td>2008-03-03</td>\n",
       "      <td>39564.0</td>\n",
       "      <td>112.0</td>\n",
       "    </tr>\n",
       "    <tr>\n",
       "      <th>2</th>\n",
       "      <td>2008-03-10</td>\n",
       "      <td>35512.0</td>\n",
       "      <td>93.0</td>\n",
       "    </tr>\n",
       "    <tr>\n",
       "      <th>3</th>\n",
       "      <td>2008-03-17</td>\n",
       "      <td>54505.0</td>\n",
       "      <td>166.0</td>\n",
       "    </tr>\n",
       "    <tr>\n",
       "      <th>4</th>\n",
       "      <td>2008-03-24</td>\n",
       "      <td>29449.0</td>\n",
       "      <td>120.0</td>\n",
       "    </tr>\n",
       "  </tbody>\n",
       "</table>\n",
       "</div>"
      ],
      "text/plain": [
       "    sale_date  sale_price  Quantity\n",
       "0  2008-02-25     11498.0      32.0\n",
       "1  2008-03-03     39564.0     112.0\n",
       "2  2008-03-10     35512.0      93.0\n",
       "3  2008-03-17     54505.0     166.0\n",
       "4  2008-03-24     29449.0     120.0"
      ]
     },
     "execution_count": 7,
     "metadata": {},
     "output_type": "execute_result"
    }
   ],
   "source": [
    "df[:5]"
   ]
  },
  {
   "cell_type": "code",
   "execution_count": 9,
   "metadata": {},
   "outputs": [],
   "source": [
    "df=df.drop(['sale_date'],axis=1)"
   ]
  },
  {
   "cell_type": "code",
   "execution_count": 10,
   "metadata": {},
   "outputs": [],
   "source": [
    "# 区间缩放\n",
    "values = df.values\n",
    "values = values.astype('float32')\n",
    "\n",
    "scaler = MinMaxScaler(feature_range=(0, 1))\n",
    "scaled = scaler.fit_transform(values)\n",
    "\n",
    "# frame as supervised learning\n",
    "reframed = series_to_supervised(scaled, 1, 1)\n",
    "\n",
    "valuess = reframed.values\n",
    "\n",
    "# 2018年所有数据是倒数44条的数据\n",
    "num_2018 = 44\n",
    "\n",
    "train = valuess[:(len(valuess)-num_2018), :]#513-45=468\n",
    "test = valuess[(len(valuess)-num_2018):, :]\n",
    "\n",
    "train_X, train_y = train[:, :-2], train[:, -2]\n",
    "test_X, test_y = test[:, :-2], test[:, -2]\n",
    "\n",
    "train_X = train_X.reshape((train_X.shape[0], 1, train_X.shape[1]))\n",
    "test_X = test_X.reshape((test_X.shape[0], 1, test_X.shape[1]))"
   ]
  },
  {
   "cell_type": "markdown",
   "metadata": {},
   "source": [
    "测试集         \n",
    "[销售额, 销售数量]"
   ]
  },
  {
   "cell_type": "code",
   "execution_count": 10,
   "metadata": {},
   "outputs": [],
   "source": [
    "# values[469:469+5]"
   ]
  },
  {
   "cell_type": "code",
   "execution_count": 11,
   "metadata": {},
   "outputs": [
    {
     "name": "stdout",
     "output_type": "stream",
     "text": [
      "Train on 505 samples, validate on 44 samples\n",
      "Epoch 1/100\n",
      " - 6s - loss: 0.1774 - val_loss: 0.0848\n",
      "Epoch 2/100\n",
      " - 1s - loss: 0.1286 - val_loss: 0.0934\n",
      "Epoch 3/100\n",
      " - 1s - loss: 0.1293 - val_loss: 0.0908\n",
      "Epoch 4/100\n",
      " - 1s - loss: 0.1220 - val_loss: 0.0902\n",
      "Epoch 5/100\n",
      " - 1s - loss: 0.1176 - val_loss: 0.0884\n",
      "Epoch 6/100\n",
      " - 1s - loss: 0.1128 - val_loss: 0.0870\n",
      "Epoch 7/100\n",
      " - 1s - loss: 0.1080 - val_loss: 0.0850\n",
      "Epoch 8/100\n",
      " - 1s - loss: 0.1027 - val_loss: 0.0822\n",
      "Epoch 9/100\n",
      " - 1s - loss: 0.0971 - val_loss: 0.0829\n",
      "Epoch 10/100\n",
      " - 1s - loss: 0.0936 - val_loss: 0.0825\n",
      "Epoch 11/100\n",
      " - 1s - loss: 0.0891 - val_loss: 0.0822\n",
      "Epoch 12/100\n",
      " - 1s - loss: 0.0857 - val_loss: 0.0816\n",
      "Epoch 13/100\n",
      " - 1s - loss: 0.0835 - val_loss: 0.0803\n",
      "Epoch 14/100\n",
      " - 1s - loss: 0.0806 - val_loss: 0.0795\n",
      "Epoch 15/100\n",
      " - 1s - loss: 0.0793 - val_loss: 0.0799\n",
      "Epoch 16/100\n",
      " - 1s - loss: 0.0779 - val_loss: 0.0810\n",
      "Epoch 17/100\n",
      " - 1s - loss: 0.0768 - val_loss: 0.0793\n",
      "Epoch 18/100\n",
      " - 1s - loss: 0.0757 - val_loss: 0.0812\n",
      "Epoch 19/100\n",
      " - 1s - loss: 0.0754 - val_loss: 0.0805\n",
      "Epoch 20/100\n",
      " - 1s - loss: 0.0747 - val_loss: 0.0793\n",
      "Epoch 21/100\n",
      " - 1s - loss: 0.0741 - val_loss: 0.0784\n",
      "Epoch 22/100\n",
      " - 1s - loss: 0.0739 - val_loss: 0.0800\n",
      "Epoch 23/100\n",
      " - 1s - loss: 0.0740 - val_loss: 0.0789\n",
      "Epoch 24/100\n",
      " - 1s - loss: 0.0738 - val_loss: 0.0798\n",
      "Epoch 25/100\n",
      " - 1s - loss: 0.0737 - val_loss: 0.0795\n",
      "Epoch 26/100\n",
      " - 1s - loss: 0.0738 - val_loss: 0.0795\n",
      "Epoch 27/100\n",
      " - 1s - loss: 0.0735 - val_loss: 0.0795\n",
      "Epoch 28/100\n",
      " - 1s - loss: 0.0733 - val_loss: 0.0793\n",
      "Epoch 29/100\n",
      " - 1s - loss: 0.0732 - val_loss: 0.0796\n",
      "Epoch 30/100\n",
      " - 1s - loss: 0.0734 - val_loss: 0.0793\n",
      "Epoch 31/100\n",
      " - 1s - loss: 0.0730 - val_loss: 0.0784\n",
      "Epoch 32/100\n",
      " - 1s - loss: 0.0732 - val_loss: 0.0791\n",
      "Epoch 33/100\n",
      " - 1s - loss: 0.0728 - val_loss: 0.0792\n",
      "Epoch 34/100\n",
      " - 1s - loss: 0.0731 - val_loss: 0.0793\n",
      "Epoch 35/100\n",
      " - 1s - loss: 0.0730 - val_loss: 0.0794\n",
      "Epoch 36/100\n",
      " - 1s - loss: 0.0730 - val_loss: 0.0791\n",
      "Epoch 37/100\n",
      " - 1s - loss: 0.0727 - val_loss: 0.0791\n",
      "Epoch 38/100\n",
      " - 1s - loss: 0.0731 - val_loss: 0.0798\n",
      "Epoch 39/100\n",
      " - 1s - loss: 0.0729 - val_loss: 0.0794\n",
      "Epoch 40/100\n",
      " - 1s - loss: 0.0729 - val_loss: 0.0789\n",
      "Epoch 41/100\n",
      " - 1s - loss: 0.0726 - val_loss: 0.0790\n",
      "Epoch 42/100\n",
      " - 1s - loss: 0.0728 - val_loss: 0.0798\n",
      "Epoch 43/100\n",
      " - 1s - loss: 0.0730 - val_loss: 0.0800\n",
      "Epoch 44/100\n",
      " - 1s - loss: 0.0730 - val_loss: 0.0799\n",
      "Epoch 45/100\n",
      " - 1s - loss: 0.0728 - val_loss: 0.0791\n",
      "Epoch 46/100\n",
      " - 1s - loss: 0.0726 - val_loss: 0.0795\n",
      "Epoch 47/100\n",
      " - 1s - loss: 0.0727 - val_loss: 0.0790\n",
      "Epoch 48/100\n",
      " - 1s - loss: 0.0727 - val_loss: 0.0793\n",
      "Epoch 49/100\n",
      " - 1s - loss: 0.0725 - val_loss: 0.0788\n",
      "Epoch 50/100\n",
      " - 1s - loss: 0.0726 - val_loss: 0.0797\n",
      "Epoch 51/100\n",
      " - 1s - loss: 0.0726 - val_loss: 0.0787\n",
      "Epoch 52/100\n",
      " - 1s - loss: 0.0725 - val_loss: 0.0799\n",
      "Epoch 53/100\n",
      " - 1s - loss: 0.0727 - val_loss: 0.0793\n",
      "Epoch 54/100\n",
      " - 1s - loss: 0.0726 - val_loss: 0.0798\n",
      "Epoch 55/100\n",
      " - 1s - loss: 0.0726 - val_loss: 0.0793\n",
      "Epoch 56/100\n",
      " - 1s - loss: 0.0725 - val_loss: 0.0798\n",
      "Epoch 57/100\n",
      " - 1s - loss: 0.0725 - val_loss: 0.0787\n",
      "Epoch 58/100\n",
      " - 1s - loss: 0.0725 - val_loss: 0.0798\n",
      "Epoch 59/100\n",
      " - 1s - loss: 0.0725 - val_loss: 0.0788\n",
      "Epoch 60/100\n",
      " - 1s - loss: 0.0723 - val_loss: 0.0787\n",
      "Epoch 61/100\n",
      " - 1s - loss: 0.0722 - val_loss: 0.0788\n",
      "Epoch 62/100\n",
      " - 1s - loss: 0.0725 - val_loss: 0.0797\n",
      "Epoch 63/100\n",
      " - 1s - loss: 0.0723 - val_loss: 0.0792\n",
      "Epoch 64/100\n",
      " - 1s - loss: 0.0723 - val_loss: 0.0790\n",
      "Epoch 65/100\n",
      " - 1s - loss: 0.0722 - val_loss: 0.0787\n",
      "Epoch 66/100\n",
      " - 1s - loss: 0.0722 - val_loss: 0.0792\n",
      "Epoch 67/100\n",
      " - 1s - loss: 0.0722 - val_loss: 0.0786\n",
      "Epoch 68/100\n",
      " - 1s - loss: 0.0722 - val_loss: 0.0796\n",
      "Epoch 69/100\n",
      " - 1s - loss: 0.0722 - val_loss: 0.0791\n",
      "Epoch 70/100\n",
      " - 1s - loss: 0.0721 - val_loss: 0.0786\n",
      "Epoch 71/100\n",
      " - 1s - loss: 0.0722 - val_loss: 0.0790\n",
      "Epoch 72/100\n",
      " - 1s - loss: 0.0720 - val_loss: 0.0788\n",
      "Epoch 73/100\n",
      " - 1s - loss: 0.0722 - val_loss: 0.0792\n",
      "Epoch 74/100\n",
      " - 1s - loss: 0.0721 - val_loss: 0.0791\n",
      "Epoch 75/100\n",
      " - 1s - loss: 0.0719 - val_loss: 0.0785\n",
      "Epoch 76/100\n",
      " - 1s - loss: 0.0718 - val_loss: 0.0793\n",
      "Epoch 77/100\n",
      " - 1s - loss: 0.0721 - val_loss: 0.0790\n",
      "Epoch 78/100\n",
      " - 1s - loss: 0.0721 - val_loss: 0.0803\n",
      "Epoch 79/100\n",
      " - 1s - loss: 0.0720 - val_loss: 0.0788\n",
      "Epoch 80/100\n",
      " - 1s - loss: 0.0720 - val_loss: 0.0786\n",
      "Epoch 81/100\n",
      " - 1s - loss: 0.0717 - val_loss: 0.0796\n",
      "Epoch 82/100\n",
      " - 1s - loss: 0.0720 - val_loss: 0.0788\n",
      "Epoch 83/100\n",
      " - 1s - loss: 0.0717 - val_loss: 0.0787\n",
      "Epoch 84/100\n",
      " - 1s - loss: 0.0716 - val_loss: 0.0797\n",
      "Epoch 85/100\n",
      " - 1s - loss: 0.0722 - val_loss: 0.0798\n",
      "Epoch 86/100\n",
      " - 1s - loss: 0.0721 - val_loss: 0.0799\n",
      "Epoch 87/100\n",
      " - 1s - loss: 0.0719 - val_loss: 0.0792\n",
      "Epoch 88/100\n",
      " - 1s - loss: 0.0716 - val_loss: 0.0797\n",
      "Epoch 89/100\n",
      " - 1s - loss: 0.0717 - val_loss: 0.0788\n",
      "Epoch 90/100\n",
      " - 1s - loss: 0.0716 - val_loss: 0.0789\n",
      "Epoch 91/100\n",
      " - 1s - loss: 0.0715 - val_loss: 0.0795\n",
      "Epoch 92/100\n",
      " - 1s - loss: 0.0718 - val_loss: 0.0792\n",
      "Epoch 93/100\n",
      " - 1s - loss: 0.0716 - val_loss: 0.0787\n",
      "Epoch 94/100\n",
      " - 1s - loss: 0.0714 - val_loss: 0.0789\n",
      "Epoch 95/100\n",
      " - 1s - loss: 0.0715 - val_loss: 0.0792\n",
      "Epoch 96/100\n",
      " - 1s - loss: 0.0715 - val_loss: 0.0788\n",
      "Epoch 97/100\n",
      " - 1s - loss: 0.0715 - val_loss: 0.0793\n",
      "Epoch 98/100\n",
      " - 1s - loss: 0.0716 - val_loss: 0.0799\n",
      "Epoch 99/100\n",
      " - 1s - loss: 0.0718 - val_loss: 0.0797\n",
      "Epoch 100/100\n",
      " - 1s - loss: 0.0714 - val_loss: 0.0792\n"
     ]
    }
   ],
   "source": [
    "model = Sequential()\n",
    "model.add(LSTM(50, input_shape=(train_X.shape[1], train_X.shape[2])))\n",
    "model.add(Dense(1))\n",
    "model.compile(loss='mae', optimizer='adam')\n",
    "\n",
    "history = model.fit(train_X, train_y, epochs=100, batch_size=8, validation_data=(test_X, test_y), verbose=2, shuffle=False)"
   ]
  },
  {
   "cell_type": "code",
   "execution_count": 12,
   "metadata": {},
   "outputs": [
    {
     "data": {
      "image/png": "[encoded data removed]",
      "text/plain": [
       "<Figure size 432x288 with 1 Axes>"
      ]
     },
     "metadata": {},
     "output_type": "display_data"
    }
   ],
   "source": [
    "# plot history\n",
    "plt.plot(history.history['loss'], label='train')\n",
    "plt.plot(history.history['val_loss'], label='test')\n",
    "plt.legend()\n",
    "plt.show()"
   ]
  },
  {
   "cell_type": "code",
   "execution_count": 13,
   "metadata": {},
   "outputs": [
    {
     "name": "stdout",
     "output_type": "stream",
     "text": [
      "error:\n",
      " [0.19383578]\n"
     ]
    }
   ],
   "source": [
    "yhat = model.predict(test_X)\n",
    "\n",
    "yhat.reshape((len(yhat), ))\n",
    "\n",
    "rmse = mean_squared_error01(test_y,yhat)\n",
    "# print('rmse[:]:\\n',rmse[:])\n",
    "error = sum(rmse[:])/(len(test_y))\n",
    "\n",
    "print('error:\\n',error)"
   ]
  },
  {
   "cell_type": "markdown",
   "metadata": {},
   "source": [
    "##### 因为之前做了归一化，现在要将0-1的数据还原到原来的范围"
   ]
  },
  {
   "cell_type": "markdown",
   "metadata": {},
   "source": [
    "测试集          \n",
    "[销售额、销售数量]"
   ]
  },
  {
   "cell_type": "code",
   "execution_count": 14,
   "metadata": {},
   "outputs": [],
   "source": [
    "# values[-10:]"
   ]
  },
  {
   "cell_type": "code",
   "execution_count": 15,
   "metadata": {},
   "outputs": [],
   "source": [
    "# invert scaling for forecast\n",
    "test_X = test_X.reshape((test_X.shape[0], test_X.shape[2]))\n",
    "test_yy=test_y.reshape((len(test_y),1 ))\n",
    "\n",
    "inv_y = concatenate((test_yy, test_X[:, 1:]), axis=1)\n",
    "inv_y = scaler.inverse_transform(inv_y)"
   ]
  },
  {
   "cell_type": "code",
   "execution_count": 16,
   "metadata": {},
   "outputs": [
    {
     "data": {
      "text/plain": [
       "array([[1.1180900e+05, 1.4800000e+02],\n",
       "       [1.1428100e+05, 1.2300000e+02],\n",
       "       [1.0135100e+05, 1.1799999e+02],\n",
       "       [1.2196200e+05, 1.1300000e+02],\n",
       "       [1.3391600e+05, 1.2400000e+02],\n",
       "       [1.3523600e+05, 1.4300000e+02],\n",
       "       [1.3348400e+05, 1.5400000e+02],\n",
       "       [8.2062000e+04, 1.6200000e+02],\n",
       "       [1.1979400e+05, 1.0900000e+02],\n",
       "       [1.2711001e+05, 1.6000000e+02],\n",
       "       [7.4895000e+04, 2.1800000e+02],\n",
       "       [1.0713300e+05, 1.1000000e+02],\n",
       "       [9.0395000e+04, 1.6300000e+02],\n",
       "       [1.3343000e+05, 1.5600000e+02],\n",
       "       [8.7956000e+04, 2.1500002e+02],\n",
       "       [9.5100000e+04, 1.5000000e+02],\n",
       "       [9.0573000e+04, 1.5100000e+02],\n",
       "       [1.1665500e+05, 1.6600000e+02],\n",
       "       [9.9556000e+04, 2.2300000e+02],\n",
       "       [1.0321600e+05, 1.8400000e+02],\n",
       "       [5.8895000e+04, 2.0100000e+02],\n",
       "       [6.9339000e+04, 1.2200000e+02],\n",
       "       [6.3862004e+04, 1.4700000e+02],\n",
       "       [7.2395000e+04, 1.5000000e+02],\n",
       "       [7.9412000e+04, 1.5500000e+02],\n",
       "       [8.8258000e+04, 1.7400000e+02],\n",
       "       [7.9818000e+04, 1.9400000e+02],\n",
       "       [6.6322000e+04, 1.6800002e+02],\n",
       "       [4.2904000e+04, 1.3900000e+02],\n",
       "       [5.4436000e+04, 9.7999992e+01],\n",
       "       [7.5075000e+04, 1.4900000e+02],\n",
       "       [7.9964000e+04, 1.6500000e+02],\n",
       "       [1.1568300e+05, 1.4600000e+02],\n",
       "       [7.3464000e+04, 2.0400000e+02],\n",
       "       [9.0758000e+04, 1.2000000e+02],\n",
       "       [7.3457000e+04, 1.5100000e+02],\n",
       "       [8.0850000e+04, 1.2500000e+02],\n",
       "       [8.9613000e+04, 1.3500000e+02],\n",
       "       [1.0494500e+05, 1.6300000e+02],\n",
       "       [1.6448700e+05, 1.9800000e+02],\n",
       "       [9.9110000e+04, 2.8800000e+02],\n",
       "       [8.5337000e+04, 1.4500000e+02],\n",
       "       [7.4489000e+04, 1.1799999e+02],\n",
       "       [2.1867000e+04, 9.6000000e+01]], dtype=float32)"
      ]
     },
     "execution_count": 16,
     "metadata": {},
     "output_type": "execute_result"
    }
   ],
   "source": [
    "inv_y"
   ]
  },
  {
   "cell_type": "code",
   "execution_count": 17,
   "metadata": {},
   "outputs": [],
   "source": [
    "y1=inv_y"
   ]
  },
  {
   "cell_type": "code",
   "execution_count": 18,
   "metadata": {},
   "outputs": [],
   "source": [
    "inv_ypred = concatenate((yhat, test_X[:, 1:]), axis=1)\n",
    "inv_ypred = scaler.inverse_transform(inv_ypred)"
   ]
  },
  {
   "cell_type": "code",
   "execution_count": 19,
   "metadata": {},
   "outputs": [
    {
     "data": {
      "text/plain": [
       "array([[1.44113891e+05, 1.48000000e+02],\n",
       "       [1.23912414e+05, 1.23000000e+02],\n",
       "       [1.26981711e+05, 1.17999992e+02],\n",
       "       [1.15545258e+05, 1.13000000e+02],\n",
       "       [1.33169094e+05, 1.24000000e+02],\n",
       "       [1.41064625e+05, 1.43000000e+02],\n",
       "       [1.40540391e+05, 1.54000000e+02],\n",
       "       [1.37755750e+05, 1.62000000e+02],\n",
       "       [9.74586406e+04, 1.09000000e+02],\n",
       "       [1.25728492e+05, 1.60000000e+02],\n",
       "       [1.23843125e+05, 2.18000000e+02],\n",
       "       [9.02405078e+04, 1.10000000e+02],\n",
       "       [1.13638141e+05, 1.63000000e+02],\n",
       "       [9.88635312e+04, 1.56000000e+02],\n",
       "       [1.29825914e+05, 2.15000015e+02],\n",
       "       [9.73665547e+04, 1.50000000e+02],\n",
       "       [1.04050031e+05, 1.51000000e+02],\n",
       "       [9.76426172e+04, 1.66000000e+02],\n",
       "       [1.13840977e+05, 2.23000000e+02],\n",
       "       [1.03612211e+05, 1.84000000e+02],\n",
       "       [1.04659633e+05, 2.01000000e+02],\n",
       "       [7.25846797e+04, 1.22000000e+02],\n",
       "       [7.96558828e+04, 1.47000000e+02],\n",
       "       [7.38416953e+04, 1.50000000e+02],\n",
       "       [8.15894062e+04, 1.55000000e+02],\n",
       "       [8.58697812e+04, 1.74000000e+02],\n",
       "       [9.16432656e+04, 1.94000000e+02],\n",
       "       [8.70640156e+04, 1.68000015e+02],\n",
       "       [7.77412188e+04, 1.39000000e+02],\n",
       "       [5.94149531e+04, 9.79999924e+01],\n",
       "       [6.45659805e+04, 1.49000000e+02],\n",
       "       [8.28708516e+04, 1.65000000e+02],\n",
       "       [9.01973828e+04, 1.46000000e+02],\n",
       "       [1.15623484e+05, 2.04000000e+02],\n",
       "       [8.74188672e+04, 1.20000000e+02],\n",
       "       [9.99114062e+04, 1.51000000e+02],\n",
       "       [8.67172500e+04, 1.25000000e+02],\n",
       "       [9.25854609e+04, 1.35000000e+02],\n",
       "       [9.71434141e+04, 1.63000000e+02],\n",
       "       [1.06666734e+05, 1.98000000e+02],\n",
       "       [1.45371391e+05, 2.88000000e+02],\n",
       "       [1.08711836e+05, 1.45000000e+02],\n",
       "       [9.93691875e+04, 1.17999992e+02],\n",
       "       [9.18293203e+04, 9.60000000e+01]], dtype=float32)"
      ]
     },
     "execution_count": 19,
     "metadata": {},
     "output_type": "execute_result"
    }
   ],
   "source": [
    "inv_ypred"
   ]
  },
  {
   "cell_type": "code",
   "execution_count": 20,
   "metadata": {},
   "outputs": [],
   "source": [
    "y2=inv_ypred"
   ]
  },
  {
   "cell_type": "markdown",
   "metadata": {},
   "source": [
    "预测2018年销售额的相对误差"
   ]
  },
  {
   "cell_type": "code",
   "execution_count": 21,
   "metadata": {},
   "outputs": [
    {
     "data": {
      "text/plain": [
       "array([4084654.,    6841.], dtype=float32)"
      ]
     },
     "execution_count": 21,
     "metadata": {},
     "output_type": "execute_result"
    }
   ],
   "source": [
    "a1=sum(y1)\n",
    "a1"
   ]
  },
  {
   "cell_type": "code",
   "execution_count": 22,
   "metadata": {},
   "outputs": [
    {
     "data": {
      "text/plain": [
       "array([4542241.5,    6841. ], dtype=float32)"
      ]
     },
     "execution_count": 22,
     "metadata": {},
     "output_type": "execute_result"
    }
   ],
   "source": [
    "a2=sum(y2)\n",
    "a2"
   ]
  },
  {
   "cell_type": "code",
   "execution_count": 23,
   "metadata": {},
   "outputs": [
    {
     "data": {
      "text/plain": [
       "0.11202601"
      ]
     },
     "execution_count": 23,
     "metadata": {},
     "output_type": "execute_result"
    }
   ],
   "source": [
    "abs(a1[0]-a2[0])/a1[0]"
   ]
  },
  {
   "cell_type": "code",
   "execution_count": null,
   "metadata": {},
   "outputs": [],
   "source": []
  }
 ],
 "metadata": {
  "kernelspec": {
   "display_name": "Python 3",
   "language": "python",
   "name": "python3"
  },
  "language_info": {
   "codemirror_mode": {
    "name": "ipython",
    "version": 3
   },
   "file_extension": ".py",
   "mimetype": "text/x-python",
   "name": "python",
   "nbconvert_exporter": "python",
   "pygments_lexer": "ipython3",
   "version": "3.5.5"
  }
 },
 "nbformat": 4,
 "nbformat_minor": 2
}
