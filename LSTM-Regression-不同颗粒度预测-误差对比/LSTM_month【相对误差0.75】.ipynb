{
 "cells": [
  {
   "cell_type": "code",
   "execution_count": 1,
   "metadata": {},
   "outputs": [
    {
     "name": "stderr",
     "output_type": "stream",
     "text": [
      "Using TensorFlow backend.\n"
     ]
    }
   ],
   "source": [
    "import pandas as pd\n",
    "import numpy as np\n",
    "from math import sqrt\n",
    "from numpy import concatenate\n",
    "from matplotlib import pyplot as plt\n",
    "from pandas import read_csv,DataFrame,concat\n",
    "\n",
    "from sklearn.preprocessing import LabelEncoder,MinMaxScaler\n",
    "\n",
    "from sklearn.metrics import mean_squared_error\n",
    "from keras.models import Sequential\n",
    "from keras.layers import Dense,LSTM\n",
    "\n",
    "import os\n",
    "path='E:\\【ML_DL】\\【服装项目】\\dataset\\shopN\\data\\shop_'"
   ]
  },
  {
   "cell_type": "markdown",
   "metadata": {},
   "source": [
    "销售数据取自data_full.7z中的'sale_XXX.csv'系列csv文件，将所有sale数据进行合并。一共有638家店铺，其中取出：拥有数据数目大于100条可以用于lstm时序预测、以及日期可以满足预测条件的店铺，用shop_newest_len100表示       "
   ]
  },
  {
   "cell_type": "code",
   "execution_count": 2,
   "metadata": {},
   "outputs": [],
   "source": [
    "shop_newest_len100 = [1, 2, 3, 4, 5, 6, 7, 11, 12, 13, 14, 15, 16, 18, 19, 20, 21, 22, 24, 25, 31, 32, 33, 34, 35, 36, 37, 38, 39, 40, 41, 42, 43, 44, 45, 47, 48, 49, 51, 52, 54, 56, 57, 58, 59, 61, 62, 63, 64, 65, 69, 70, 72, 75, 76, 77, 78, 81, 83, 85, 86, 88, 89, 90, 91, 93, 94, 95, 100, 101, 105, 106, 107, 110, 111, 114, 115, 121, 122, 125, 127, 128, 132, 133, 134, 135, 146, 147, 151, 156, 157, 158, 159, 160, 162, 163, 164, 167, 169, 170, 172, 178, 179, 183, 185, 186, 189, 196, 199, 200, 201, 205, 206, 209, 218, 221, 223, 225, 233, 234, 237, 239, 246, 250, 260, 272, 299, 308, 311, 321, 451, 481]"
   ]
  },
  {
   "cell_type": "markdown",
   "metadata": {},
   "source": [
    "保存每个店铺的数据长度"
   ]
  },
  {
   "cell_type": "code",
   "execution_count": 3,
   "metadata": {},
   "outputs": [],
   "source": [
    "shop_length = []# 保存每个店铺的数据长度\n",
    "for id in shop_newest_len100:\n",
    "    df = pd.read_csv(path+str(id)+'.csv',low_memory=False)\n",
    "    shop_length.append(len(df))"
   ]
  },
  {
   "cell_type": "code",
   "execution_count": 4,
   "metadata": {},
   "outputs": [
    {
     "data": {
      "text/plain": [
       "[225, 558, 558, 446, 366, 331, 513, 177, 362, 497]"
      ]
     },
     "execution_count": 4,
     "metadata": {},
     "output_type": "execute_result"
    }
   ],
   "source": [
    "shop_length[:10]"
   ]
  },
  {
   "cell_type": "code",
   "execution_count": 2,
   "metadata": {},
   "outputs": [],
   "source": [
    "# convert series to supervised learning\n",
    "def series_to_supervised(data, n_in=1, n_out=1, dropnan=True):\n",
    "    n_vars = 1 if type(data) is list else data.shape[1]\n",
    "    df = DataFrame(data)\n",
    "    cols, names = list(), list()\n",
    "    # input sequence (t-n, ... t-1)\n",
    "    for i in range(n_in, 0, -1):\n",
    "        cols.append(df.shift(i))\n",
    "        names += [('var%d(t-%d)' % (j+1, i)) for j in range(n_vars)]\n",
    "    # forecast sequence (t, t+1, ... t+n)\n",
    "    for i in range(0, n_out):\n",
    "        cols.append(df.shift(-i))\n",
    "        if i == 0:\n",
    "            names += [('var%d(t)' % (j+1)) for j in range(n_vars)]\n",
    "        else:\n",
    "            names += [('var%d(t+%d)' % (j+1, i)) for j in range(n_vars)]\n",
    "    # put it all together\n",
    "    agg = concat(cols, axis=1)\n",
    "    agg.columns = names\n",
    "    # drop rows with NaN values\n",
    "    if dropnan:\n",
    "        agg.dropna(inplace=True)\n",
    "    return agg\n",
    "\n",
    "# 定义相对误差的计算\n",
    "def mean_squared_error01(a,b):\n",
    "    e=[]\n",
    "    for i in range(len(a)):\n",
    "        dif = a[i]-b[i]\n",
    "        e1 = abs(dif / b[i])\n",
    "        e.append(e1)\n",
    "    return e"
   ]
  },
  {
   "cell_type": "markdown",
   "metadata": {},
   "source": [
    "这里随机选取第3个店铺进行展示"
   ]
  },
  {
   "cell_type": "code",
   "execution_count": 3,
   "metadata": {},
   "outputs": [
    {
     "data": {
      "text/plain": [
       "558"
      ]
     },
     "execution_count": 3,
     "metadata": {},
     "output_type": "execute_result"
    }
   ],
   "source": [
    "id = 3# 这里随机选取第7个店铺进行展示\n",
    "df = pd.read_csv(path+str(id)+'.csv',low_memory=False)\n",
    "# df=df.drop(['sale_date'],axis=1)\n",
    "len(df)"
   ]
  },
  {
   "cell_type": "markdown",
   "metadata": {},
   "source": [
    "数据清洗"
   ]
  },
  {
   "cell_type": "code",
   "execution_count": 4,
   "metadata": {},
   "outputs": [
    {
     "data": {
      "text/plain": [
       "550"
      ]
     },
     "execution_count": 4,
     "metadata": {},
     "output_type": "execute_result"
    }
   ],
   "source": [
    "df=df.dropna()\n",
    "df=df[df['sale_price']!=0]\n",
    "len(df)"
   ]
  },
  {
   "cell_type": "markdown",
   "metadata": {},
   "source": [
    "查看修改前，以【周】销售单位的数据"
   ]
  },
  {
   "cell_type": "code",
   "execution_count": 5,
   "metadata": {},
   "outputs": [
    {
     "data": {
      "text/html": [
       "<div>\n",
       "<style scoped>\n",
       "    .dataframe tbody tr th:only-of-type {\n",
       "        vertical-align: middle;\n",
       "    }\n",
       "\n",
       "    .dataframe tbody tr th {\n",
       "        vertical-align: top;\n",
       "    }\n",
       "\n",
       "    .dataframe thead th {\n",
       "        text-align: right;\n",
       "    }\n",
       "</style>\n",
       "<table border=\"1\" class=\"dataframe\">\n",
       "  <thead>\n",
       "    <tr style=\"text-align: right;\">\n",
       "      <th></th>\n",
       "      <th>sale_date</th>\n",
       "      <th>sale_price</th>\n",
       "      <th>Quantity</th>\n",
       "    </tr>\n",
       "  </thead>\n",
       "  <tbody>\n",
       "    <tr>\n",
       "      <th>0</th>\n",
       "      <td>2008-02-25</td>\n",
       "      <td>11498.0</td>\n",
       "      <td>32.0</td>\n",
       "    </tr>\n",
       "    <tr>\n",
       "      <th>1</th>\n",
       "      <td>2008-03-03</td>\n",
       "      <td>39564.0</td>\n",
       "      <td>112.0</td>\n",
       "    </tr>\n",
       "    <tr>\n",
       "      <th>2</th>\n",
       "      <td>2008-03-10</td>\n",
       "      <td>35512.0</td>\n",
       "      <td>93.0</td>\n",
       "    </tr>\n",
       "    <tr>\n",
       "      <th>3</th>\n",
       "      <td>2008-03-17</td>\n",
       "      <td>54505.0</td>\n",
       "      <td>166.0</td>\n",
       "    </tr>\n",
       "    <tr>\n",
       "      <th>4</th>\n",
       "      <td>2008-03-24</td>\n",
       "      <td>29449.0</td>\n",
       "      <td>120.0</td>\n",
       "    </tr>\n",
       "  </tbody>\n",
       "</table>\n",
       "</div>"
      ],
      "text/plain": [
       "    sale_date  sale_price  Quantity\n",
       "0  2008-02-25     11498.0      32.0\n",
       "1  2008-03-03     39564.0     112.0\n",
       "2  2008-03-10     35512.0      93.0\n",
       "3  2008-03-17     54505.0     166.0\n",
       "4  2008-03-24     29449.0     120.0"
      ]
     },
     "execution_count": 5,
     "metadata": {},
     "output_type": "execute_result"
    }
   ],
   "source": [
    "df[:5]"
   ]
  },
  {
   "cell_type": "code",
   "execution_count": 6,
   "metadata": {},
   "outputs": [],
   "source": [
    "df['sale_date']=pd.to_datetime(df['sale_date'], format=\"%Y/%m/%d\")\n",
    "df.set_index('sale_date', inplace=True)"
   ]
  },
  {
   "cell_type": "code",
   "execution_count": 7,
   "metadata": {},
   "outputs": [],
   "source": [
    "df = df.resample('M').sum()"
   ]
  },
  {
   "cell_type": "code",
   "execution_count": 8,
   "metadata": {},
   "outputs": [
    {
     "data": {
      "text/plain": [
       "129"
      ]
     },
     "execution_count": 8,
     "metadata": {},
     "output_type": "execute_result"
    }
   ],
   "source": [
    "len(df)"
   ]
  },
  {
   "cell_type": "markdown",
   "metadata": {},
   "source": [
    "查看修改后，以【月】为销售单位的数据"
   ]
  },
  {
   "cell_type": "code",
   "execution_count": 12,
   "metadata": {},
   "outputs": [
    {
     "data": {
      "text/plain": [
       "129"
      ]
     },
     "execution_count": 12,
     "metadata": {},
     "output_type": "execute_result"
    }
   ],
   "source": [
    "df=df[df['sale_price']!=0]\n",
    "len(df)"
   ]
  },
  {
   "cell_type": "code",
   "execution_count": 13,
   "metadata": {},
   "outputs": [
    {
     "data": {
      "text/html": [
       "<div>\n",
       "<style scoped>\n",
       "    .dataframe tbody tr th:only-of-type {\n",
       "        vertical-align: middle;\n",
       "    }\n",
       "\n",
       "    .dataframe tbody tr th {\n",
       "        vertical-align: top;\n",
       "    }\n",
       "\n",
       "    .dataframe thead th {\n",
       "        text-align: right;\n",
       "    }\n",
       "</style>\n",
       "<table border=\"1\" class=\"dataframe\">\n",
       "  <thead>\n",
       "    <tr style=\"text-align: right;\">\n",
       "      <th></th>\n",
       "      <th>sale_price</th>\n",
       "      <th>Quantity</th>\n",
       "    </tr>\n",
       "    <tr>\n",
       "      <th>sale_date</th>\n",
       "      <th></th>\n",
       "      <th></th>\n",
       "    </tr>\n",
       "  </thead>\n",
       "  <tbody>\n",
       "    <tr>\n",
       "      <th>2008-02-29</th>\n",
       "      <td>11498.0</td>\n",
       "      <td>32.0</td>\n",
       "    </tr>\n",
       "    <tr>\n",
       "      <th>2008-03-31</th>\n",
       "      <td>205379.0</td>\n",
       "      <td>650.0</td>\n",
       "    </tr>\n",
       "    <tr>\n",
       "      <th>2008-04-30</th>\n",
       "      <td>109691.0</td>\n",
       "      <td>401.0</td>\n",
       "    </tr>\n",
       "    <tr>\n",
       "      <th>2008-05-31</th>\n",
       "      <td>7447.0</td>\n",
       "      <td>29.0</td>\n",
       "    </tr>\n",
       "    <tr>\n",
       "      <th>2008-06-30</th>\n",
       "      <td>209109.0</td>\n",
       "      <td>941.0</td>\n",
       "    </tr>\n",
       "  </tbody>\n",
       "</table>\n",
       "</div>"
      ],
      "text/plain": [
       "            sale_price  Quantity\n",
       "sale_date                       \n",
       "2008-02-29     11498.0      32.0\n",
       "2008-03-31    205379.0     650.0\n",
       "2008-04-30    109691.0     401.0\n",
       "2008-05-31      7447.0      29.0\n",
       "2008-06-30    209109.0     941.0"
      ]
     },
     "execution_count": 13,
     "metadata": {},
     "output_type": "execute_result"
    }
   ],
   "source": [
    "df[:5]"
   ]
  },
  {
   "cell_type": "code",
   "execution_count": 14,
   "metadata": {},
   "outputs": [],
   "source": [
    "# 区间缩放\n",
    "values = df.values\n",
    "values = values.astype('float32')\n",
    "\n",
    "scaler = MinMaxScaler(feature_range=(0, 1))\n",
    "scaled = scaler.fit_transform(values)\n",
    "\n",
    "# frame as supervised learning\n",
    "reframed = series_to_supervised(scaled, 1, 1)\n",
    "\n",
    "valuess = reframed.values\n",
    "\n",
    "# 2018年所有数据是倒数44条的数据\n",
    "num_2018 = 10\n",
    "\n",
    "train = valuess[:(len(valuess)-num_2018), :]#513-45=468\n",
    "test = valuess[(len(valuess)-num_2018):, :]\n",
    "\n",
    "train_X, train_y = train[:, :-2], train[:, -2]\n",
    "test_X, test_y = test[:, :-2], test[:, -2]\n",
    "\n",
    "train_X = train_X.reshape((train_X.shape[0], 1, train_X.shape[1]))\n",
    "test_X = test_X.reshape((test_X.shape[0], 1, test_X.shape[1]))"
   ]
  },
  {
   "cell_type": "markdown",
   "metadata": {},
   "source": [
    "测试集         \n",
    "[销售额, 销售数量]"
   ]
  },
  {
   "cell_type": "code",
   "execution_count": 10,
   "metadata": {},
   "outputs": [],
   "source": [
    "# values[469:469+5]"
   ]
  },
  {
   "cell_type": "code",
   "execution_count": 15,
   "metadata": {},
   "outputs": [
    {
     "name": "stdout",
     "output_type": "stream",
     "text": [
      "Train on 118 samples, validate on 10 samples\n",
      "Epoch 1/100\n",
      " - 6s - loss: 0.3780 - val_loss: 0.3772\n",
      "Epoch 2/100\n",
      " - 0s - loss: 0.2954 - val_loss: 0.2898\n",
      "Epoch 3/100\n",
      " - 0s - loss: 0.2109 - val_loss: 0.1968\n",
      "Epoch 4/100\n",
      " - 0s - loss: 0.1566 - val_loss: 0.1205\n",
      "Epoch 5/100\n",
      " - 0s - loss: 0.1398 - val_loss: 0.0913\n",
      "Epoch 6/100\n",
      " - 0s - loss: 0.1394 - val_loss: 0.0830\n",
      "Epoch 7/100\n",
      " - 0s - loss: 0.1396 - val_loss: 0.0803\n",
      "Epoch 8/100\n",
      " - 0s - loss: 0.1390 - val_loss: 0.0794\n",
      "Epoch 9/100\n",
      " - 0s - loss: 0.1380 - val_loss: 0.0786\n",
      "Epoch 10/100\n",
      " - 0s - loss: 0.1369 - val_loss: 0.0783\n",
      "Epoch 11/100\n",
      " - 0s - loss: 0.1355 - val_loss: 0.0779\n",
      "Epoch 12/100\n",
      " - 0s - loss: 0.1339 - val_loss: 0.0771\n",
      "Epoch 13/100\n",
      " - 0s - loss: 0.1328 - val_loss: 0.0762\n",
      "Epoch 14/100\n",
      " - 0s - loss: 0.1321 - val_loss: 0.0758\n",
      "Epoch 15/100\n",
      " - 0s - loss: 0.1311 - val_loss: 0.0756\n",
      "Epoch 16/100\n",
      " - 0s - loss: 0.1297 - val_loss: 0.0751\n",
      "Epoch 17/100\n",
      " - 0s - loss: 0.1287 - val_loss: 0.0746\n",
      "Epoch 18/100\n",
      " - 0s - loss: 0.1277 - val_loss: 0.0743\n",
      "Epoch 19/100\n",
      " - 0s - loss: 0.1262 - val_loss: 0.0736\n",
      "Epoch 20/100\n",
      " - 0s - loss: 0.1251 - val_loss: 0.0732\n",
      "Epoch 21/100\n",
      " - 0s - loss: 0.1241 - val_loss: 0.0733\n",
      "Epoch 22/100\n",
      " - 0s - loss: 0.1226 - val_loss: 0.0728\n",
      "Epoch 23/100\n",
      " - 0s - loss: 0.1213 - val_loss: 0.0718\n",
      "Epoch 24/100\n",
      " - 0s - loss: 0.1205 - val_loss: 0.0715\n",
      "Epoch 25/100\n",
      " - 0s - loss: 0.1192 - val_loss: 0.0710\n",
      "Epoch 26/100\n",
      " - 0s - loss: 0.1180 - val_loss: 0.0704\n",
      "Epoch 27/100\n",
      " - 0s - loss: 0.1170 - val_loss: 0.0705\n",
      "Epoch 28/100\n",
      " - 0s - loss: 0.1157 - val_loss: 0.0701\n",
      "Epoch 29/100\n",
      " - 0s - loss: 0.1140 - val_loss: 0.0685\n",
      "Epoch 30/100\n",
      " - 0s - loss: 0.1133 - val_loss: 0.0681\n",
      "Epoch 31/100\n",
      " - 0s - loss: 0.1122 - val_loss: 0.0686\n",
      "Epoch 32/100\n",
      " - 0s - loss: 0.1109 - val_loss: 0.0678\n",
      "Epoch 33/100\n",
      " - 0s - loss: 0.1099 - val_loss: 0.0672\n",
      "Epoch 34/100\n",
      " - 0s - loss: 0.1089 - val_loss: 0.0665\n",
      "Epoch 35/100\n",
      " - 0s - loss: 0.1076 - val_loss: 0.0662\n",
      "Epoch 36/100\n",
      " - 0s - loss: 0.1070 - val_loss: 0.0668\n",
      "Epoch 37/100\n",
      " - 0s - loss: 0.1064 - val_loss: 0.0677\n",
      "Epoch 38/100\n",
      " - 0s - loss: 0.1051 - val_loss: 0.0683\n",
      "Epoch 39/100\n",
      " - 0s - loss: 0.1044 - val_loss: 0.0690\n",
      "Epoch 40/100\n",
      " - 0s - loss: 0.1035 - val_loss: 0.0698\n",
      "Epoch 41/100\n",
      " - 0s - loss: 0.1021 - val_loss: 0.0699\n",
      "Epoch 42/100\n",
      " - 0s - loss: 0.1016 - val_loss: 0.0703\n",
      "Epoch 43/100\n",
      " - 0s - loss: 0.1005 - val_loss: 0.0705\n",
      "Epoch 44/100\n",
      " - 0s - loss: 0.0998 - val_loss: 0.0710\n",
      "Epoch 45/100\n",
      " - 0s - loss: 0.0989 - val_loss: 0.0717\n",
      "Epoch 46/100\n",
      " - 0s - loss: 0.0973 - val_loss: 0.0724\n",
      "Epoch 47/100\n",
      " - 0s - loss: 0.0970 - val_loss: 0.0730\n",
      "Epoch 48/100\n",
      " - 0s - loss: 0.0962 - val_loss: 0.0735\n",
      "Epoch 49/100\n",
      " - 0s - loss: 0.0957 - val_loss: 0.0740\n",
      "Epoch 50/100\n",
      " - 0s - loss: 0.0956 - val_loss: 0.0744\n",
      "Epoch 51/100\n",
      " - 0s - loss: 0.0950 - val_loss: 0.0749\n",
      "Epoch 52/100\n",
      " - 0s - loss: 0.0946 - val_loss: 0.0755\n",
      "Epoch 53/100\n",
      " - 0s - loss: 0.0945 - val_loss: 0.0759\n",
      "Epoch 54/100\n",
      " - 0s - loss: 0.0942 - val_loss: 0.0763\n",
      "Epoch 55/100\n",
      " - 0s - loss: 0.0934 - val_loss: 0.0769\n",
      "Epoch 56/100\n",
      " - 0s - loss: 0.0934 - val_loss: 0.0773\n",
      "Epoch 57/100\n",
      " - 0s - loss: 0.0930 - val_loss: 0.0776\n",
      "Epoch 58/100\n",
      " - 0s - loss: 0.0927 - val_loss: 0.0779\n",
      "Epoch 59/100\n",
      " - 0s - loss: 0.0928 - val_loss: 0.0780\n",
      "Epoch 60/100\n",
      " - 0s - loss: 0.0924 - val_loss: 0.0782\n",
      "Epoch 61/100\n",
      " - 0s - loss: 0.0926 - val_loss: 0.0783\n",
      "Epoch 62/100\n",
      " - 0s - loss: 0.0924 - val_loss: 0.0783\n",
      "Epoch 63/100\n",
      " - 0s - loss: 0.0925 - val_loss: 0.0783\n",
      "Epoch 64/100\n",
      " - 0s - loss: 0.0922 - val_loss: 0.0781\n",
      "Epoch 65/100\n",
      " - 0s - loss: 0.0921 - val_loss: 0.0781\n",
      "Epoch 66/100\n",
      " - 0s - loss: 0.0924 - val_loss: 0.0783\n",
      "Epoch 67/100\n",
      " - 0s - loss: 0.0923 - val_loss: 0.0783\n",
      "Epoch 68/100\n",
      " - 0s - loss: 0.0922 - val_loss: 0.0782\n",
      "Epoch 69/100\n",
      " - 0s - loss: 0.0921 - val_loss: 0.0782\n",
      "Epoch 70/100\n",
      " - 0s - loss: 0.0923 - val_loss: 0.0782\n",
      "Epoch 71/100\n",
      " - 0s - loss: 0.0922 - val_loss: 0.0782\n",
      "Epoch 72/100\n",
      " - 0s - loss: 0.0923 - val_loss: 0.0782\n",
      "Epoch 73/100\n",
      " - 0s - loss: 0.0922 - val_loss: 0.0783\n",
      "Epoch 74/100\n",
      " - 0s - loss: 0.0923 - val_loss: 0.0783\n",
      "Epoch 75/100\n",
      " - 0s - loss: 0.0922 - val_loss: 0.0783\n",
      "Epoch 76/100\n",
      " - 0s - loss: 0.0922 - val_loss: 0.0783\n",
      "Epoch 77/100\n",
      " - 0s - loss: 0.0923 - val_loss: 0.0782\n",
      "Epoch 78/100\n",
      " - 0s - loss: 0.0923 - val_loss: 0.0781\n",
      "Epoch 79/100\n",
      " - 0s - loss: 0.0920 - val_loss: 0.0783\n",
      "Epoch 80/100\n",
      " - 0s - loss: 0.0923 - val_loss: 0.0783\n",
      "Epoch 81/100\n",
      " - 0s - loss: 0.0920 - val_loss: 0.0785\n",
      "Epoch 82/100\n",
      " - 0s - loss: 0.0922 - val_loss: 0.0784\n",
      "Epoch 83/100\n",
      " - 0s - loss: 0.0922 - val_loss: 0.0783\n",
      "Epoch 84/100\n",
      " - 0s - loss: 0.0921 - val_loss: 0.0783\n",
      "Epoch 85/100\n",
      " - 0s - loss: 0.0921 - val_loss: 0.0782\n",
      "Epoch 86/100\n",
      " - 0s - loss: 0.0920 - val_loss: 0.0782\n",
      "Epoch 87/100\n",
      " - 0s - loss: 0.0922 - val_loss: 0.0781\n",
      "Epoch 88/100\n",
      " - 0s - loss: 0.0919 - val_loss: 0.0783\n",
      "Epoch 89/100\n",
      " - 0s - loss: 0.0921 - val_loss: 0.0784\n",
      "Epoch 90/100\n",
      " - 0s - loss: 0.0920 - val_loss: 0.0784\n",
      "Epoch 91/100\n",
      " - 0s - loss: 0.0922 - val_loss: 0.0783\n",
      "Epoch 92/100\n",
      " - 0s - loss: 0.0918 - val_loss: 0.0784\n",
      "Epoch 93/100\n",
      " - 0s - loss: 0.0920 - val_loss: 0.0783\n",
      "Epoch 94/100\n",
      " - 0s - loss: 0.0920 - val_loss: 0.0782\n",
      "Epoch 95/100\n",
      " - 0s - loss: 0.0918 - val_loss: 0.0784\n",
      "Epoch 96/100\n",
      " - 0s - loss: 0.0922 - val_loss: 0.0782\n",
      "Epoch 97/100\n",
      " - 0s - loss: 0.0918 - val_loss: 0.0784\n",
      "Epoch 98/100\n",
      " - 0s - loss: 0.0918 - val_loss: 0.0784\n",
      "Epoch 99/100\n",
      " - 0s - loss: 0.0919 - val_loss: 0.0784\n",
      "Epoch 100/100\n",
      " - 0s - loss: 0.0918 - val_loss: 0.0785\n"
     ]
    }
   ],
   "source": [
    "model = Sequential()\n",
    "model.add(LSTM(50, input_shape=(train_X.shape[1], train_X.shape[2])))\n",
    "model.add(Dense(1))\n",
    "model.compile(loss='mae', optimizer='adam')\n",
    "\n",
    "history = model.fit(train_X, train_y, epochs=100, batch_size=8, validation_data=(test_X, test_y), verbose=2, shuffle=False)"
   ]
  },
  {
   "cell_type": "code",
   "execution_count": 16,
   "metadata": {},
   "outputs": [
    {
     "data": {
      "image/png": "[encoded data removed]",
      "text/plain": [
       "<Figure size 432x288 with 1 Axes>"
      ]
     },
     "metadata": {},
     "output_type": "display_data"
    }
   ],
   "source": [
    "# plot history\n",
    "plt.plot(history.history['loss'], label='train')\n",
    "plt.plot(history.history['val_loss'], label='test')\n",
    "plt.legend()\n",
    "plt.show()"
   ]
  },
  {
   "cell_type": "code",
   "execution_count": 17,
   "metadata": {},
   "outputs": [
    {
     "name": "stdout",
     "output_type": "stream",
     "text": [
      "rmse[:]:\n",
      " [array([0.21229792], dtype=float32), array([0.18895304], dtype=float32), array([0.16925421], dtype=float32), array([0.31569657], dtype=float32), array([0.27865228], dtype=float32), array([0.0986184], dtype=float32), array([0.03492661], dtype=float32), array([0.16215703], dtype=float32), array([0.0573664], dtype=float32), array([0.2428655], dtype=float32)]\n",
      "error:\n",
      " [0.1760788]\n"
     ]
    }
   ],
   "source": [
    "yhat = model.predict(test_X)\n",
    "\n",
    "yhat.reshape((len(yhat), ))\n",
    "\n",
    "rmse = mean_squared_error01(test_y,yhat)\n",
    "print('rmse[:]:\\n',rmse[:])\n",
    "error = sum(rmse[:])/(len(test_y))\n",
    "\n",
    "print('error:\\n',error)"
   ]
  },
  {
   "cell_type": "markdown",
   "metadata": {},
   "source": [
    "##### 因为之前做了归一化，现在要将0-1的数据还原到原来的范围"
   ]
  },
  {
   "cell_type": "markdown",
   "metadata": {},
   "source": [
    "测试集          \n",
    "[销售额、销售数量]"
   ]
  },
  {
   "cell_type": "code",
   "execution_count": 20,
   "metadata": {},
   "outputs": [
    {
     "data": {
      "text/plain": [
       "array([[583319.,    621.],\n",
       "       [470576.,    585.],\n",
       "       [399533.,    647.],\n",
       "       [523714.,    905.],\n",
       "       [331006.,    654.],\n",
       "       [303927.,    673.],\n",
       "       [318555.,    719.],\n",
       "       [359869.,    621.],\n",
       "       [348865.,    621.],\n",
       "       [445290.,    678.]], dtype=float32)"
      ]
     },
     "execution_count": 20,
     "metadata": {},
     "output_type": "execute_result"
    }
   ],
   "source": [
    "values[-10:]"
   ]
  },
  {
   "cell_type": "code",
   "execution_count": 21,
   "metadata": {},
   "outputs": [],
   "source": [
    "# invert scaling for forecast\n",
    "test_X = test_X.reshape((test_X.shape[0], test_X.shape[2]))\n",
    "test_yy=test_y.reshape((len(test_y),1 ))\n",
    "\n",
    "inv_y = concatenate((test_yy, test_X[:, 1:]), axis=1)\n",
    "inv_y = scaler.inverse_transform(inv_y)"
   ]
  },
  {
   "cell_type": "code",
   "execution_count": 22,
   "metadata": {},
   "outputs": [
    {
     "data": {
      "text/plain": [
       "array([[5.8331900e+05, 5.6700000e+02],\n",
       "       [4.7057597e+05, 6.2100000e+02],\n",
       "       [3.9953300e+05, 5.8500000e+02],\n",
       "       [5.2371400e+05, 6.4699994e+02],\n",
       "       [3.3100600e+05, 9.0500000e+02],\n",
       "       [3.0392700e+05, 6.5399994e+02],\n",
       "       [3.1855500e+05, 6.7300000e+02],\n",
       "       [3.5986900e+05, 7.1900000e+02],\n",
       "       [3.4886500e+05, 6.2100000e+02],\n",
       "       [4.4529000e+05, 6.2100000e+02]], dtype=float32)"
      ]
     },
     "execution_count": 22,
     "metadata": {},
     "output_type": "execute_result"
    }
   ],
   "source": [
    "inv_y"
   ]
  },
  {
   "cell_type": "code",
   "execution_count": 23,
   "metadata": {},
   "outputs": [],
   "source": [
    "y1=inv_y"
   ]
  },
  {
   "cell_type": "code",
   "execution_count": 24,
   "metadata": {},
   "outputs": [],
   "source": [
    "inv_ypred = concatenate((yhat, test_X[:, 1:]), axis=1)\n",
    "inv_ypred = scaler.inverse_transform(inv_ypred)"
   ]
  },
  {
   "cell_type": "code",
   "execution_count": 25,
   "metadata": {},
   "outputs": [
    {
     "data": {
      "text/plain": [
       "array([[4.8247216e+05, 5.6700000e+02],\n",
       "       [5.7847312e+05, 6.2100000e+02],\n",
       "       [4.7941572e+05, 5.8500000e+02],\n",
       "       [3.9983759e+05, 6.4699994e+02],\n",
       "       [4.5599488e+05, 9.0500000e+02],\n",
       "       [3.3636428e+05, 6.5399994e+02],\n",
       "       [3.0805575e+05, 6.7300000e+02],\n",
       "       [3.1069519e+05, 7.1900000e+02],\n",
       "       [3.6964288e+05, 6.2100000e+02],\n",
       "       [3.5973209e+05, 6.2100000e+02]], dtype=float32)"
      ]
     },
     "execution_count": 25,
     "metadata": {},
     "output_type": "execute_result"
    }
   ],
   "source": [
    "inv_ypred"
   ]
  },
  {
   "cell_type": "code",
   "execution_count": 26,
   "metadata": {},
   "outputs": [],
   "source": [
    "y2=inv_ypred[-4:-1]"
   ]
  },
  {
   "cell_type": "markdown",
   "metadata": {},
   "source": [
    "预测2018年销售额的相对误差"
   ]
  },
  {
   "cell_type": "code",
   "execution_count": 27,
   "metadata": {},
   "outputs": [
    {
     "data": {
      "text/plain": [
       "array([4084654.,    6613.], dtype=float32)"
      ]
     },
     "execution_count": 27,
     "metadata": {},
     "output_type": "execute_result"
    }
   ],
   "source": [
    "a1=sum(y1)\n",
    "a1"
   ]
  },
  {
   "cell_type": "code",
   "execution_count": 28,
   "metadata": {},
   "outputs": [
    {
     "data": {
      "text/plain": [
       "array([988393.8,   2013. ], dtype=float32)"
      ]
     },
     "execution_count": 28,
     "metadata": {},
     "output_type": "execute_result"
    }
   ],
   "source": [
    "a2=sum(y2)\n",
    "a2"
   ]
  },
  {
   "cell_type": "code",
   "execution_count": 29,
   "metadata": {},
   "outputs": [
    {
     "data": {
      "text/plain": [
       "0.75802267"
      ]
     },
     "execution_count": 29,
     "metadata": {},
     "output_type": "execute_result"
    }
   ],
   "source": [
    "abs(a1[0]-a2[0])/a1[0]"
   ]
  },
  {
   "cell_type": "code",
   "execution_count": null,
   "metadata": {},
   "outputs": [],
   "source": []
  }
 ],
 "metadata": {
  "kernelspec": {
   "display_name": "Python 3",
   "language": "python",
   "name": "python3"
  },
  "language_info": {
   "codemirror_mode": {
    "name": "ipython",
    "version": 3
   },
   "file_extension": ".py",
   "mimetype": "text/x-python",
   "name": "python",
   "nbconvert_exporter": "python",
   "pygments_lexer": "ipython3",
   "version": "3.5.5"
  }
 },
 "nbformat": 4,
 "nbformat_minor": 2
}
