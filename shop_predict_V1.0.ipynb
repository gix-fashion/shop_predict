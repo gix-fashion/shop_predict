{
 "cells": [
  {
   "cell_type": "code",
   "execution_count": 1,
   "metadata": {},
   "outputs": [
    {
     "name": "stderr",
     "output_type": "stream",
     "text": [
      "Using TensorFlow backend.\n"
     ]
    }
   ],
   "source": [
    "import pandas as pd\n",
    "from pandas import DataFrame\n",
    "import numpy as np\n",
    "from math import sqrt\n",
    "from numpy import concatenate\n",
    "from matplotlib import pyplot as plt\n",
    "from pandas import read_csv\n",
    "from pandas import DataFrame\n",
    "from pandas import concat\n",
    "from sklearn.preprocessing import MinMaxScaler\n",
    "from sklearn.preprocessing import LabelEncoder\n",
    "from sklearn.metrics import mean_squared_error\n",
    "from keras.models import Sequential\n",
    "from keras.layers import Dense\n",
    "from keras.layers import LSTM\n",
    "import os\n",
    "path='E:\\【ML_DL】\\【服装项目】\\dataset\\shopN\\data\\shop_'"
   ]
  },
  {
   "cell_type": "markdown",
   "metadata": {},
   "source": [
    "销售数据取自data_full.7z中的'sale_XXX.csv'系列csv文件，将所有sale数据进行合并。一共有638家店铺，其中取出：拥有数据数目大于100条可以用于lstm时序预测、以及日期可以满足预测条件的店铺，用shop_newest_len100表示       "
   ]
  },
  {
   "cell_type": "code",
   "execution_count": 2,
   "metadata": {},
   "outputs": [],
   "source": [
    "shop_newest_len100 = [1, 2, 3, 4, 5, 6, 7, 11, 12, 13, 14, 15, 16, 18, 19, 20, 21, 22, 24, 25, 31, 32, 33, 34, 35, 36, 37, 38, 39, 40, 41, 42, 43, 44, 45, 47, 48, 49, 51, 52, 54, 56, 57, 58, 59, 61, 62, 63, 64, 65, 69, 70, 72, 75, 76, 77, 78, 81, 83, 85, 86, 88, 89, 90, 91, 93, 94, 95, 100, 101, 105, 106, 107, 110, 111, 114, 115, 121, 122, 125, 127, 128, 132, 133, 134, 135, 146, 147, 151, 156, 157, 158, 159, 160, 162, 163, 164, 167, 169, 170, 172, 178, 179, 183, 185, 186, 189, 196, 199, 200, 201, 205, 206, 209, 218, 221, 223, 225, 233, 234, 237, 239, 246, 250, 260, 272, 299, 308, 311, 321, 451, 481]"
   ]
  },
  {
   "cell_type": "markdown",
   "metadata": {},
   "source": [
    "保存每个店铺的数据长度"
   ]
  },
  {
   "cell_type": "code",
   "execution_count": 3,
   "metadata": {},
   "outputs": [],
   "source": [
    "shop_length = []# 保存每个店铺的数据长度\n",
    "for id in shop_newest_len100:\n",
    "    df = pd.read_csv(path+str(id)+'.csv',low_memory=False)\n",
    "    shop_length.append(len(df))"
   ]
  },
  {
   "cell_type": "code",
   "execution_count": 4,
   "metadata": {},
   "outputs": [
    {
     "data": {
      "text/plain": [
       "[225, 558, 558, 446, 366, 331, 513, 177, 362, 497]"
      ]
     },
     "execution_count": 4,
     "metadata": {},
     "output_type": "execute_result"
    }
   ],
   "source": [
    "shop_length[:10]"
   ]
  },
  {
   "cell_type": "code",
   "execution_count": 2,
   "metadata": {},
   "outputs": [],
   "source": [
    "# convert series to supervised learning\n",
    "def series_to_supervised(data, n_in=1, n_out=1, dropnan=True):\n",
    "    n_vars = 1 if type(data) is list else data.shape[1]\n",
    "    df = DataFrame(data)\n",
    "    cols, names = list(), list()\n",
    "    # input sequence (t-n, ... t-1)\n",
    "    for i in range(n_in, 0, -1):\n",
    "        cols.append(df.shift(i))\n",
    "        names += [('var%d(t-%d)' % (j+1, i)) for j in range(n_vars)]\n",
    "    # forecast sequence (t, t+1, ... t+n)\n",
    "    for i in range(0, n_out):\n",
    "        cols.append(df.shift(-i))\n",
    "        if i == 0:\n",
    "            names += [('var%d(t)' % (j+1)) for j in range(n_vars)]\n",
    "        else:\n",
    "            names += [('var%d(t+%d)' % (j+1, i)) for j in range(n_vars)]\n",
    "    # put it all together\n",
    "    agg = concat(cols, axis=1)\n",
    "    agg.columns = names\n",
    "    # drop rows with NaN values\n",
    "    if dropnan:\n",
    "        agg.dropna(inplace=True)\n",
    "    return agg\n",
    "\n",
    "# 定义相对误差的计算\n",
    "def mean_squared_error01(a,b):\n",
    "    e=[]\n",
    "    for i in range(len(a)):\n",
    "        dif = a[i]-b[i]\n",
    "        e1 = abs(dif / b[i])\n",
    "        e.append(e1)\n",
    "    return e"
   ]
  },
  {
   "cell_type": "markdown",
   "metadata": {},
   "source": [
    "id就是对应的店铺名"
   ]
  },
  {
   "cell_type": "code",
   "execution_count": 4,
   "metadata": {},
   "outputs": [
    {
     "data": {
      "text/plain": [
       "513"
      ]
     },
     "execution_count": 4,
     "metadata": {},
     "output_type": "execute_result"
    }
   ],
   "source": [
    "id = 7# 这里随机选取第7个店铺进行展示\n",
    "df = pd.read_csv(path+str(id)+'.csv',low_memory=False)\n",
    "df=df.drop(['sale_date'],axis=1)\n",
    "len(df)"
   ]
  },
  {
   "cell_type": "markdown",
   "metadata": {},
   "source": [
    "测试集"
   ]
  },
  {
   "cell_type": "code",
   "execution_count": 5,
   "metadata": {},
   "outputs": [
    {
     "data": {
      "text/plain": [
       "44"
      ]
     },
     "execution_count": 5,
     "metadata": {},
     "output_type": "execute_result"
    }
   ],
   "source": [
    "len(df[469:])"
   ]
  },
  {
   "cell_type": "code",
   "execution_count": 6,
   "metadata": {},
   "outputs": [
    {
     "data": {
      "text/html": [
       "<div>\n",
       "<style scoped>\n",
       "    .dataframe tbody tr th:only-of-type {\n",
       "        vertical-align: middle;\n",
       "    }\n",
       "\n",
       "    .dataframe tbody tr th {\n",
       "        vertical-align: top;\n",
       "    }\n",
       "\n",
       "    .dataframe thead th {\n",
       "        text-align: right;\n",
       "    }\n",
       "</style>\n",
       "<table border=\"1\" class=\"dataframe\">\n",
       "  <thead>\n",
       "    <tr style=\"text-align: right;\">\n",
       "      <th></th>\n",
       "      <th>sale_price</th>\n",
       "      <th>Quantity</th>\n",
       "    </tr>\n",
       "  </thead>\n",
       "  <tbody>\n",
       "    <tr>\n",
       "      <th>469</th>\n",
       "      <td>32759.0</td>\n",
       "      <td>41.0</td>\n",
       "    </tr>\n",
       "    <tr>\n",
       "      <th>470</th>\n",
       "      <td>62791.0</td>\n",
       "      <td>65.0</td>\n",
       "    </tr>\n",
       "    <tr>\n",
       "      <th>471</th>\n",
       "      <td>51316.0</td>\n",
       "      <td>69.0</td>\n",
       "    </tr>\n",
       "    <tr>\n",
       "      <th>472</th>\n",
       "      <td>63851.0</td>\n",
       "      <td>62.0</td>\n",
       "    </tr>\n",
       "    <tr>\n",
       "      <th>473</th>\n",
       "      <td>65851.0</td>\n",
       "      <td>73.0</td>\n",
       "    </tr>\n",
       "  </tbody>\n",
       "</table>\n",
       "</div>"
      ],
      "text/plain": [
       "     sale_price  Quantity\n",
       "469     32759.0      41.0\n",
       "470     62791.0      65.0\n",
       "471     51316.0      69.0\n",
       "472     63851.0      62.0\n",
       "473     65851.0      73.0"
      ]
     },
     "execution_count": 6,
     "metadata": {},
     "output_type": "execute_result"
    }
   ],
   "source": [
    "df[469:469+5]"
   ]
  },
  {
   "cell_type": "markdown",
   "metadata": {},
   "source": [
    "将2018年之前的数据作为训练集，2018年所有数据作为测试集"
   ]
  },
  {
   "cell_type": "code",
   "execution_count": 21,
   "metadata": {},
   "outputs": [],
   "source": [
    "# 区间缩放\n",
    "values = df.values\n",
    "values = values.astype('float32')\n",
    "\n",
    "scaler = MinMaxScaler(feature_range=(0, 1))\n",
    "scaled = scaler.fit_transform(values)\n",
    "\n",
    "# frame as supervised learning\n",
    "reframed = series_to_supervised(scaled, 1, 1)\n",
    "\n",
    "valuess = reframed.values\n",
    "\n",
    "# 2018年所有数据是倒数44条的数据\n",
    "num_2018 = 44\n",
    "\n",
    "train = valuess[:(len(df)-num_2018-1), :]#513-45=468\n",
    "test = valuess[(len(df)-num_2018-1):, :]\n",
    "\n",
    "train_X, train_y = train[:, :-2], train[:, -2]\n",
    "test_X, test_y = test[:, :-2], test[:, -2]\n",
    "\n",
    "train_X = train_X.reshape((train_X.shape[0], 1, train_X.shape[1]))\n",
    "test_X = test_X.reshape((test_X.shape[0], 1, test_X.shape[1]))"
   ]
  },
  {
   "cell_type": "markdown",
   "metadata": {},
   "source": [
    "测试集         \n",
    "[销售额, 销售数量]"
   ]
  },
  {
   "cell_type": "code",
   "execution_count": 13,
   "metadata": {},
   "outputs": [
    {
     "data": {
      "text/plain": [
       "array([[3.2759e+04, 4.1000e+01],\n",
       "       [6.2791e+04, 6.5000e+01],\n",
       "       [5.1316e+04, 6.9000e+01],\n",
       "       [6.3851e+04, 6.2000e+01],\n",
       "       [6.5851e+04, 7.3000e+01]], dtype=float32)"
      ]
     },
     "execution_count": 13,
     "metadata": {},
     "output_type": "execute_result"
    }
   ],
   "source": [
    "values[469:469+5]"
   ]
  },
  {
   "cell_type": "code",
   "execution_count": 14,
   "metadata": {},
   "outputs": [
    {
     "name": "stdout",
     "output_type": "stream",
     "text": [
      "Train on 468 samples, validate on 44 samples\n",
      "Epoch 1/80\n",
      " - 6s - loss: 0.1564 - val_loss: 0.1065\n",
      "Epoch 2/80\n",
      " - 1s - loss: 0.1286 - val_loss: 0.1174\n",
      "Epoch 3/80\n",
      " - 1s - loss: 0.1221 - val_loss: 0.1074\n",
      "Epoch 4/80\n",
      " - 1s - loss: 0.1122 - val_loss: 0.0948\n",
      "Epoch 5/80\n",
      " - 1s - loss: 0.1046 - val_loss: 0.0836\n",
      "Epoch 6/80\n",
      " - 1s - loss: 0.0972 - val_loss: 0.0765\n",
      "Epoch 7/80\n",
      " - 1s - loss: 0.0930 - val_loss: 0.0714\n",
      "Epoch 8/80\n",
      " - 1s - loss: 0.0881 - val_loss: 0.0693\n",
      "Epoch 9/80\n",
      " - 1s - loss: 0.0832 - val_loss: 0.0672\n",
      "Epoch 10/80\n",
      " - 1s - loss: 0.0807 - val_loss: 0.0675\n",
      "Epoch 11/80\n",
      " - 1s - loss: 0.0794 - val_loss: 0.0677\n",
      "Epoch 12/80\n",
      " - 1s - loss: 0.0782 - val_loss: 0.0676\n",
      "Epoch 13/80\n",
      " - 1s - loss: 0.0771 - val_loss: 0.0661\n",
      "Epoch 14/80\n",
      " - 1s - loss: 0.0749 - val_loss: 0.0653\n",
      "Epoch 15/80\n",
      " - 1s - loss: 0.0749 - val_loss: 0.0658\n",
      "Epoch 16/80\n",
      " - 1s - loss: 0.0729 - val_loss: 0.0649\n",
      "Epoch 17/80\n",
      " - 1s - loss: 0.0728 - val_loss: 0.0646\n",
      "Epoch 18/80\n",
      " - 1s - loss: 0.0709 - val_loss: 0.0628\n",
      "Epoch 19/80\n",
      " - 1s - loss: 0.0693 - val_loss: 0.0627\n",
      "Epoch 20/80\n",
      " - 1s - loss: 0.0683 - val_loss: 0.0621\n",
      "Epoch 21/80\n",
      " - 1s - loss: 0.0674 - val_loss: 0.0618\n",
      "Epoch 22/80\n",
      " - 1s - loss: 0.0666 - val_loss: 0.0623\n",
      "Epoch 23/80\n",
      " - 1s - loss: 0.0666 - val_loss: 0.0634\n",
      "Epoch 24/80\n",
      " - 1s - loss: 0.0664 - val_loss: 0.0632\n",
      "Epoch 25/80\n",
      " - 1s - loss: 0.0662 - val_loss: 0.0643\n",
      "Epoch 26/80\n",
      " - 1s - loss: 0.0660 - val_loss: 0.0634\n",
      "Epoch 27/80\n",
      " - 1s - loss: 0.0656 - val_loss: 0.0642\n",
      "Epoch 28/80\n",
      " - 1s - loss: 0.0656 - val_loss: 0.0650\n",
      "Epoch 29/80\n",
      " - 1s - loss: 0.0654 - val_loss: 0.0653\n",
      "Epoch 30/80\n",
      " - 1s - loss: 0.0651 - val_loss: 0.0655\n",
      "Epoch 31/80\n",
      " - 1s - loss: 0.0650 - val_loss: 0.0652\n",
      "Epoch 32/80\n",
      " - 1s - loss: 0.0648 - val_loss: 0.0662\n",
      "Epoch 33/80\n",
      " - 1s - loss: 0.0653 - val_loss: 0.0678\n",
      "Epoch 34/80\n",
      " - 1s - loss: 0.0652 - val_loss: 0.0659\n",
      "Epoch 35/80\n",
      " - 1s - loss: 0.0647 - val_loss: 0.0672\n",
      "Epoch 36/80\n",
      " - 1s - loss: 0.0649 - val_loss: 0.0665\n",
      "Epoch 37/80\n",
      " - 1s - loss: 0.0642 - val_loss: 0.0658\n",
      "Epoch 38/80\n",
      " - 1s - loss: 0.0640 - val_loss: 0.0675\n",
      "Epoch 39/80\n",
      " - 1s - loss: 0.0645 - val_loss: 0.0692\n",
      "Epoch 40/80\n",
      " - 1s - loss: 0.0646 - val_loss: 0.0685\n",
      "Epoch 41/80\n",
      " - 1s - loss: 0.0642 - val_loss: 0.0687\n",
      "Epoch 42/80\n",
      " - 1s - loss: 0.0641 - val_loss: 0.0688\n",
      "Epoch 43/80\n",
      " - 1s - loss: 0.0635 - val_loss: 0.0678\n",
      "Epoch 44/80\n",
      " - 1s - loss: 0.0633 - val_loss: 0.0691\n",
      "Epoch 45/80\n",
      " - 1s - loss: 0.0635 - val_loss: 0.0703\n",
      "Epoch 46/80\n",
      " - 1s - loss: 0.0628 - val_loss: 0.0714\n",
      "Epoch 47/80\n",
      " - 1s - loss: 0.0646 - val_loss: 0.0722\n",
      "Epoch 48/80\n",
      " - 1s - loss: 0.0641 - val_loss: 0.0725\n",
      "Epoch 49/80\n",
      " - 1s - loss: 0.0630 - val_loss: 0.0746\n",
      "Epoch 50/80\n",
      " - 1s - loss: 0.0667 - val_loss: 0.0782\n",
      "Epoch 51/80\n",
      " - 1s - loss: 0.0655 - val_loss: 0.0793\n",
      "Epoch 52/80\n",
      " - 1s - loss: 0.0669 - val_loss: 0.0785\n",
      "Epoch 53/80\n",
      " - 1s - loss: 0.0649 - val_loss: 0.0766\n",
      "Epoch 54/80\n",
      " - 1s - loss: 0.0666 - val_loss: 0.0784\n",
      "Epoch 55/80\n",
      " - 1s - loss: 0.0645 - val_loss: 0.0753\n",
      "Epoch 56/80\n",
      " - 1s - loss: 0.0654 - val_loss: 0.0769\n",
      "Epoch 57/80\n",
      " - 1s - loss: 0.0646 - val_loss: 0.0769\n",
      "Epoch 58/80\n",
      " - 1s - loss: 0.0649 - val_loss: 0.0812\n",
      "Epoch 59/80\n",
      " - 1s - loss: 0.0669 - val_loss: 0.0816\n",
      "Epoch 60/80\n",
      " - 1s - loss: 0.0660 - val_loss: 0.0811\n",
      "Epoch 61/80\n",
      " - 1s - loss: 0.0665 - val_loss: 0.0818\n",
      "Epoch 62/80\n",
      " - 1s - loss: 0.0659 - val_loss: 0.0793\n",
      "Epoch 63/80\n",
      " - 1s - loss: 0.0653 - val_loss: 0.0807\n",
      "Epoch 64/80\n",
      " - 1s - loss: 0.0658 - val_loss: 0.0826\n",
      "Epoch 65/80\n",
      " - 1s - loss: 0.0668 - val_loss: 0.0807\n",
      "Epoch 66/80\n",
      " - 1s - loss: 0.0649 - val_loss: 0.0763\n",
      "Epoch 67/80\n",
      " - 1s - loss: 0.0636 - val_loss: 0.0770\n",
      "Epoch 68/80\n",
      " - 1s - loss: 0.0654 - val_loss: 0.0764\n",
      "Epoch 69/80\n",
      " - 1s - loss: 0.0632 - val_loss: 0.0746\n",
      "Epoch 70/80\n",
      " - 1s - loss: 0.0635 - val_loss: 0.0782\n",
      "Epoch 71/80\n",
      " - 1s - loss: 0.0646 - val_loss: 0.0812\n",
      "Epoch 72/80\n",
      " - 1s - loss: 0.0653 - val_loss: 0.0809\n",
      "Epoch 73/80\n",
      " - 1s - loss: 0.0650 - val_loss: 0.0803\n",
      "Epoch 74/80\n",
      " - 1s - loss: 0.0650 - val_loss: 0.0803\n",
      "Epoch 75/80\n",
      " - 1s - loss: 0.0649 - val_loss: 0.0787\n",
      "Epoch 76/80\n",
      " - 1s - loss: 0.0646 - val_loss: 0.0786\n",
      "Epoch 77/80\n",
      " - 1s - loss: 0.0642 - val_loss: 0.0785\n",
      "Epoch 78/80\n",
      " - 1s - loss: 0.0644 - val_loss: 0.0794\n",
      "Epoch 79/80\n",
      " - 1s - loss: 0.0649 - val_loss: 0.0795\n",
      "Epoch 80/80\n",
      " - 1s - loss: 0.0645 - val_loss: 0.0773\n"
     ]
    }
   ],
   "source": [
    "model = Sequential()\n",
    "model.add(LSTM(50, input_shape=(train_X.shape[1], train_X.shape[2])))\n",
    "model.add(Dense(1))\n",
    "model.compile(loss='mae', optimizer='adam')\n",
    "\n",
    "history = model.fit(train_X, train_y, epochs=80, batch_size=8, validation_data=(test_X, test_y), verbose=2, shuffle=False)"
   ]
  },
  {
   "cell_type": "code",
   "execution_count": 15,
   "metadata": {},
   "outputs": [
    {
     "data": {
      "image/png": "[encoded data removed]",
      "text/plain": [
       "<Figure size 432x288 with 1 Axes>"
      ]
     },
     "metadata": {},
     "output_type": "display_data"
    }
   ],
   "source": [
    "# plot history\n",
    "plt.plot(history.history['loss'], label='train')\n",
    "plt.plot(history.history['val_loss'], label='test')\n",
    "plt.legend()\n",
    "plt.show()"
   ]
  },
  {
   "cell_type": "code",
   "execution_count": 16,
   "metadata": {},
   "outputs": [
    {
     "name": "stdout",
     "output_type": "stream",
     "text": [
      "[0.3231634]\n"
     ]
    }
   ],
   "source": [
    "yhat = model.predict(test_X)\n",
    "\n",
    "yhat.reshape((len(yhat), ))\n",
    "\n",
    "rmse = mean_squared_error01(test_y,yhat)\n",
    "error = sum(rmse)/len(test_y)\n",
    "\n",
    "print(error)"
   ]
  },
  {
   "cell_type": "markdown",
   "metadata": {},
   "source": [
    "##### 因为之前做了归一化，现在要将0-1的数据还原到原来的范围"
   ]
  },
  {
   "cell_type": "markdown",
   "metadata": {},
   "source": [
    "测试集          \n",
    "[销售额、销售数量]"
   ]
  },
  {
   "cell_type": "code",
   "execution_count": 17,
   "metadata": {},
   "outputs": [
    {
     "data": {
      "text/plain": [
       "array([[3.2759e+04, 4.1000e+01],\n",
       "       [6.2791e+04, 6.5000e+01],\n",
       "       [5.1316e+04, 6.9000e+01],\n",
       "       [6.3851e+04, 6.2000e+01],\n",
       "       [6.5851e+04, 7.3000e+01]], dtype=float32)"
      ]
     },
     "execution_count": 17,
     "metadata": {},
     "output_type": "execute_result"
    }
   ],
   "source": [
    "values[469:469+5]"
   ]
  },
  {
   "cell_type": "code",
   "execution_count": 22,
   "metadata": {},
   "outputs": [],
   "source": [
    "# invert scaling for forecast\n",
    "test_X = test_X.reshape((test_X.shape[0], test_X.shape[2]))\n",
    "test_yy=test_y.reshape((len(test_y),1 ))\n",
    "\n",
    "inv_y = concatenate((test_yy, test_X[:, 1:]), axis=1)\n",
    "inv_y = scaler.inverse_transform(inv_y)"
   ]
  },
  {
   "cell_type": "code",
   "execution_count": 23,
   "metadata": {},
   "outputs": [
    {
     "data": {
      "text/plain": [
       "array([[3.2759e+04, 7.9000e+01],\n",
       "       [6.2791e+04, 4.1000e+01],\n",
       "       [5.1316e+04, 6.5000e+01],\n",
       "       [6.3851e+04, 6.9000e+01],\n",
       "       [6.5851e+04, 6.2000e+01]], dtype=float32)"
      ]
     },
     "execution_count": 23,
     "metadata": {},
     "output_type": "execute_result"
    }
   ],
   "source": [
    "inv_y[:5]"
   ]
  },
  {
   "cell_type": "code",
   "execution_count": 24,
   "metadata": {},
   "outputs": [],
   "source": [
    "inv_ypred = concatenate((yhat, test_X[:, 1:]), axis=1)\n",
    "inv_ypred = scaler.inverse_transform(inv_ypred)"
   ]
  },
  {
   "cell_type": "code",
   "execution_count": 25,
   "metadata": {},
   "outputs": [
    {
     "data": {
      "text/plain": [
       "array([[8.0414531e+04, 7.9000000e+01],\n",
       "       [4.6180379e+04, 4.1000000e+01],\n",
       "       [7.6587875e+04, 6.5000000e+01],\n",
       "       [6.4557715e+04, 6.9000000e+01],\n",
       "       [7.7858422e+04, 6.2000000e+01]], dtype=float32)"
      ]
     },
     "execution_count": 25,
     "metadata": {},
     "output_type": "execute_result"
    }
   ],
   "source": [
    "inv_ypred[:5]"
   ]
  },
  {
   "cell_type": "code",
   "execution_count": null,
   "metadata": {},
   "outputs": [],
   "source": []
  },
  {
   "cell_type": "code",
   "execution_count": 26,
   "metadata": {},
   "outputs": [
    {
     "data": {
      "text/plain": [
       "44"
      ]
     },
     "execution_count": 26,
     "metadata": {},
     "output_type": "execute_result"
    }
   ],
   "source": [
    "len(inv_y)"
   ]
  },
  {
   "cell_type": "markdown",
   "metadata": {},
   "source": [
    "预测2018年销售额的相对误差"
   ]
  },
  {
   "cell_type": "code",
   "execution_count": 30,
   "metadata": {},
   "outputs": [
    {
     "data": {
      "text/plain": [
       "array([1850086.,    3174.], dtype=float32)"
      ]
     },
     "execution_count": 30,
     "metadata": {},
     "output_type": "execute_result"
    }
   ],
   "source": [
    "sum(inv_y)"
   ]
  },
  {
   "cell_type": "code",
   "execution_count": 31,
   "metadata": {},
   "outputs": [
    {
     "data": {
      "text/plain": [
       "44"
      ]
     },
     "execution_count": 31,
     "metadata": {},
     "output_type": "execute_result"
    }
   ],
   "source": [
    "len(inv_ypred)"
   ]
  },
  {
   "cell_type": "code",
   "execution_count": 32,
   "metadata": {},
   "outputs": [
    {
     "data": {
      "text/plain": [
       "array([2445541.,    3174.], dtype=float32)"
      ]
     },
     "execution_count": 32,
     "metadata": {},
     "output_type": "execute_result"
    }
   ],
   "source": [
    "sum(inv_ypred)"
   ]
  },
  {
   "cell_type": "code",
   "execution_count": 33,
   "metadata": {},
   "outputs": [
    {
     "data": {
      "text/plain": [
       "0.32185260577075875"
      ]
     },
     "execution_count": 33,
     "metadata": {},
     "output_type": "execute_result"
    }
   ],
   "source": [
    "abs(2445541-1850086)/1850086"
   ]
  },
  {
   "cell_type": "code",
   "execution_count": null,
   "metadata": {},
   "outputs": [],
   "source": []
  }
 ],
 "metadata": {
  "kernelspec": {
   "display_name": "Python 3",
   "language": "python",
   "name": "python3"
  },
  "language_info": {
   "codemirror_mode": {
    "name": "ipython",
    "version": 3
   },
   "file_extension": ".py",
   "mimetype": "text/x-python",
   "name": "python",
   "nbconvert_exporter": "python",
   "pygments_lexer": "ipython3",
   "version": "3.5.5"
  }
 },
 "nbformat": 4,
 "nbformat_minor": 2
}
