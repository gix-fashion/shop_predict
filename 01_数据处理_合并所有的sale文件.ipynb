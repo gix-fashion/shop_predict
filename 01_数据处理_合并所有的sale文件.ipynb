{
 "cells": [
  {
   "cell_type": "code",
   "execution_count": 1,
   "metadata": {},
   "outputs": [],
   "source": [
    "import pandas as pd\n",
    "import os\n",
    "\n",
    "# 设置工作目录\n",
    "os.chdir(r'E:\\【ML_DL】\\【服装项目】\\dataset\\data_full\\sale\\sale')\n",
    "file_chdir=os.getcwd()"
   ]
  },
  {
   "cell_type": "code",
   "execution_count": 2,
   "metadata": {},
   "outputs": [],
   "source": [
    "filecsv_list=[]\n",
    "for root,dirs,files in os.walk(file_chdir):\n",
    "    for file in files:\n",
    "        if os.path.splitext(file)[1]=='.csv':\n",
    "            filecsv_list.append(file)"
   ]
  },
  {
   "cell_type": "code",
   "execution_count": 3,
   "metadata": {},
   "outputs": [],
   "source": [
    "data=pd.DataFrame()"
   ]
  },
  {
   "cell_type": "code",
   "execution_count": 4,
   "metadata": {},
   "outputs": [
    {
     "name": "stderr",
     "output_type": "stream",
     "text": [
      "D:\\Install\\Anaconda3_5.2.0\\envs\\tensorflow\\lib\\site-packages\\ipykernel_launcher.py:2: ParserWarning: Falling back to the 'python' engine because the 'c' engine does not support sep=None with delim_whitespace=False; you can avoid this warning by specifying engine='python'.\n",
      "  \n"
     ]
    }
   ],
   "source": [
    "for csv in filecsv_list:\n",
    "    data=data.append(pd.read_csv(csv,header=0,sep=None))"
   ]
  },
  {
   "cell_type": "markdown",
   "metadata": {},
   "source": [
    "##### data是总数据"
   ]
  },
  {
   "cell_type": "code",
   "execution_count": 5,
   "metadata": {},
   "outputs": [
    {
     "data": {
      "text/html": [
       "<div>\n",
       "<style scoped>\n",
       "    .dataframe tbody tr th:only-of-type {\n",
       "        vertical-align: middle;\n",
       "    }\n",
       "\n",
       "    .dataframe tbody tr th {\n",
       "        vertical-align: top;\n",
       "    }\n",
       "\n",
       "    .dataframe thead th {\n",
       "        text-align: right;\n",
       "    }\n",
       "</style>\n",
       "<table border=\"1\" class=\"dataframe\">\n",
       "  <thead>\n",
       "    <tr style=\"text-align: right;\">\n",
       "      <th></th>\n",
       "      <th>sale_no</th>\n",
       "      <th>sale_date</th>\n",
       "      <th>channel_id</th>\n",
       "      <th>sale_price</th>\n",
       "      <th>sku_id</th>\n",
       "      <th>Quantity</th>\n",
       "    </tr>\n",
       "  </thead>\n",
       "  <tbody>\n",
       "    <tr>\n",
       "      <th>0</th>\n",
       "      <td>KOB0700394</td>\n",
       "      <td>1900/01/01 00:00:00.000000000</td>\n",
       "      <td>GS01SH10</td>\n",
       "      <td>854.0</td>\n",
       "      <td>285819001501#501#00#XL</td>\n",
       "      <td>1.0</td>\n",
       "    </tr>\n",
       "    <tr>\n",
       "      <th>0</th>\n",
       "      <td>KGS0000013</td>\n",
       "      <td>2008/03/25 00:00:00.000000000</td>\n",
       "      <td>SH01SH07</td>\n",
       "      <td>179.0</td>\n",
       "      <td>0818040230237#0237#00#L</td>\n",
       "      <td>1.0</td>\n",
       "    </tr>\n",
       "    <tr>\n",
       "      <th>1</th>\n",
       "      <td>KGS0000013</td>\n",
       "      <td>2008/03/25 00:00:00.000000000</td>\n",
       "      <td>SH01SH07</td>\n",
       "      <td>299.0</td>\n",
       "      <td>0819050040701#0701#00#XS</td>\n",
       "      <td>1.0</td>\n",
       "    </tr>\n",
       "    <tr>\n",
       "      <th>2</th>\n",
       "      <td>KGS0000156</td>\n",
       "      <td>2008/03/18 00:00:00.000000000</td>\n",
       "      <td>SH01SH07</td>\n",
       "      <td>499.0</td>\n",
       "      <td>0818070021101#1101#32#33</td>\n",
       "      <td>1.0</td>\n",
       "    </tr>\n",
       "    <tr>\n",
       "      <th>3</th>\n",
       "      <td>KGS0001224</td>\n",
       "      <td>2008/03/12 00:00:00.000000000</td>\n",
       "      <td>SH01SH05</td>\n",
       "      <td>459.0</td>\n",
       "      <td>0818070021101#1101#30#30</td>\n",
       "      <td>-1.0</td>\n",
       "    </tr>\n",
       "  </tbody>\n",
       "</table>\n",
       "</div>"
      ],
      "text/plain": [
       "      sale_no                      sale_date channel_id  sale_price  \\\n",
       "0  KOB0700394  1900/01/01 00:00:00.000000000   GS01SH10       854.0   \n",
       "0  KGS0000013  2008/03/25 00:00:00.000000000   SH01SH07       179.0   \n",
       "1  KGS0000013  2008/03/25 00:00:00.000000000   SH01SH07       299.0   \n",
       "2  KGS0000156  2008/03/18 00:00:00.000000000   SH01SH07       499.0   \n",
       "3  KGS0001224  2008/03/12 00:00:00.000000000   SH01SH05       459.0   \n",
       "\n",
       "                     sku_id  Quantity  \n",
       "0    285819001501#501#00#XL       1.0  \n",
       "0   0818040230237#0237#00#L       1.0  \n",
       "1  0819050040701#0701#00#XS       1.0  \n",
       "2  0818070021101#1101#32#33       1.0  \n",
       "3  0818070021101#1101#30#30      -1.0  "
      ]
     },
     "execution_count": 5,
     "metadata": {},
     "output_type": "execute_result"
    }
   ],
   "source": [
    "data[:5]"
   ]
  },
  {
   "cell_type": "code",
   "execution_count": 6,
   "metadata": {},
   "outputs": [
    {
     "data": {
      "text/plain": [
       "4199366"
      ]
     },
     "execution_count": 6,
     "metadata": {},
     "output_type": "execute_result"
    }
   ],
   "source": [
    "len(data)"
   ]
  },
  {
   "cell_type": "markdown",
   "metadata": {},
   "source": [
    "##### 保存初步的原始数据"
   ]
  },
  {
   "cell_type": "code",
   "execution_count": 7,
   "metadata": {},
   "outputs": [],
   "source": [
    "os.chdir(r'E:\\【ML_DL】\\【服装项目】\\dataset\\data_full\\sale')"
   ]
  },
  {
   "cell_type": "code",
   "execution_count": 8,
   "metadata": {},
   "outputs": [],
   "source": [
    "data.to_csv('sale_all.csv')"
   ]
  },
  {
   "cell_type": "code",
   "execution_count": 9,
   "metadata": {},
   "outputs": [
    {
     "data": {
      "text/plain": [
       "4199366"
      ]
     },
     "execution_count": 9,
     "metadata": {},
     "output_type": "execute_result"
    }
   ],
   "source": [
    "len(data)"
   ]
  },
  {
   "cell_type": "code",
   "execution_count": 10,
   "metadata": {},
   "outputs": [
    {
     "data": {
      "text/html": [
       "<div>\n",
       "<style scoped>\n",
       "    .dataframe tbody tr th:only-of-type {\n",
       "        vertical-align: middle;\n",
       "    }\n",
       "\n",
       "    .dataframe tbody tr th {\n",
       "        vertical-align: top;\n",
       "    }\n",
       "\n",
       "    .dataframe thead th {\n",
       "        text-align: right;\n",
       "    }\n",
       "</style>\n",
       "<table border=\"1\" class=\"dataframe\">\n",
       "  <thead>\n",
       "    <tr style=\"text-align: right;\">\n",
       "      <th></th>\n",
       "      <th>sale_no</th>\n",
       "      <th>sale_date</th>\n",
       "      <th>channel_id</th>\n",
       "      <th>sale_price</th>\n",
       "      <th>sku_id</th>\n",
       "      <th>Quantity</th>\n",
       "    </tr>\n",
       "  </thead>\n",
       "  <tbody>\n",
       "    <tr>\n",
       "      <th>0</th>\n",
       "      <td>KOB0700394</td>\n",
       "      <td>1900/01/01 00:00:00.000000000</td>\n",
       "      <td>GS01SH10</td>\n",
       "      <td>854.0</td>\n",
       "      <td>285819001501#501#00#XL</td>\n",
       "      <td>1.0</td>\n",
       "    </tr>\n",
       "    <tr>\n",
       "      <th>0</th>\n",
       "      <td>KGS0000013</td>\n",
       "      <td>2008/03/25 00:00:00.000000000</td>\n",
       "      <td>SH01SH07</td>\n",
       "      <td>179.0</td>\n",
       "      <td>0818040230237#0237#00#L</td>\n",
       "      <td>1.0</td>\n",
       "    </tr>\n",
       "    <tr>\n",
       "      <th>1</th>\n",
       "      <td>KGS0000013</td>\n",
       "      <td>2008/03/25 00:00:00.000000000</td>\n",
       "      <td>SH01SH07</td>\n",
       "      <td>299.0</td>\n",
       "      <td>0819050040701#0701#00#XS</td>\n",
       "      <td>1.0</td>\n",
       "    </tr>\n",
       "    <tr>\n",
       "      <th>2</th>\n",
       "      <td>KGS0000156</td>\n",
       "      <td>2008/03/18 00:00:00.000000000</td>\n",
       "      <td>SH01SH07</td>\n",
       "      <td>499.0</td>\n",
       "      <td>0818070021101#1101#32#33</td>\n",
       "      <td>1.0</td>\n",
       "    </tr>\n",
       "    <tr>\n",
       "      <th>3</th>\n",
       "      <td>KGS0001224</td>\n",
       "      <td>2008/03/12 00:00:00.000000000</td>\n",
       "      <td>SH01SH05</td>\n",
       "      <td>459.0</td>\n",
       "      <td>0818070021101#1101#30#30</td>\n",
       "      <td>-1.0</td>\n",
       "    </tr>\n",
       "  </tbody>\n",
       "</table>\n",
       "</div>"
      ],
      "text/plain": [
       "      sale_no                      sale_date channel_id  sale_price  \\\n",
       "0  KOB0700394  1900/01/01 00:00:00.000000000   GS01SH10       854.0   \n",
       "0  KGS0000013  2008/03/25 00:00:00.000000000   SH01SH07       179.0   \n",
       "1  KGS0000013  2008/03/25 00:00:00.000000000   SH01SH07       299.0   \n",
       "2  KGS0000156  2008/03/18 00:00:00.000000000   SH01SH07       499.0   \n",
       "3  KGS0001224  2008/03/12 00:00:00.000000000   SH01SH05       459.0   \n",
       "\n",
       "                     sku_id  Quantity  \n",
       "0    285819001501#501#00#XL       1.0  \n",
       "0   0818040230237#0237#00#L       1.0  \n",
       "1  0819050040701#0701#00#XS       1.0  \n",
       "2  0818070021101#1101#32#33       1.0  \n",
       "3  0818070021101#1101#30#30      -1.0  "
      ]
     },
     "execution_count": 10,
     "metadata": {},
     "output_type": "execute_result"
    }
   ],
   "source": [
    "data[:5]"
   ]
  },
  {
   "cell_type": "markdown",
   "metadata": {},
   "source": [
    "##### 数据清洗"
   ]
  },
  {
   "cell_type": "code",
   "execution_count": 11,
   "metadata": {},
   "outputs": [],
   "source": [
    "data = data[(data.Quantity>0)&(data.sale_price>0)]"
   ]
  },
  {
   "cell_type": "code",
   "execution_count": 12,
   "metadata": {},
   "outputs": [
    {
     "data": {
      "text/plain": [
       "3662232"
      ]
     },
     "execution_count": 12,
     "metadata": {},
     "output_type": "execute_result"
    }
   ],
   "source": [
    "len(data)"
   ]
  },
  {
   "cell_type": "code",
   "execution_count": 13,
   "metadata": {},
   "outputs": [],
   "source": [
    "data = data.dropna(axis = 0)"
   ]
  },
  {
   "cell_type": "code",
   "execution_count": 14,
   "metadata": {},
   "outputs": [
    {
     "data": {
      "text/plain": [
       "3662232"
      ]
     },
     "execution_count": 14,
     "metadata": {},
     "output_type": "execute_result"
    }
   ],
   "source": [
    "len(data)"
   ]
  },
  {
   "cell_type": "markdown",
   "metadata": {},
   "source": [
    "##### 将有问题的sale_date进行处理，仅保留 年份/月份/日期 格式"
   ]
  },
  {
   "cell_type": "code",
   "execution_count": 15,
   "metadata": {},
   "outputs": [],
   "source": [
    "df1=data"
   ]
  },
  {
   "cell_type": "code",
   "execution_count": 16,
   "metadata": {},
   "outputs": [
    {
     "data": {
      "text/html": [
       "<div>\n",
       "<style scoped>\n",
       "    .dataframe tbody tr th:only-of-type {\n",
       "        vertical-align: middle;\n",
       "    }\n",
       "\n",
       "    .dataframe tbody tr th {\n",
       "        vertical-align: top;\n",
       "    }\n",
       "\n",
       "    .dataframe thead th {\n",
       "        text-align: right;\n",
       "    }\n",
       "</style>\n",
       "<table border=\"1\" class=\"dataframe\">\n",
       "  <thead>\n",
       "    <tr style=\"text-align: right;\">\n",
       "      <th></th>\n",
       "      <th>sale_no</th>\n",
       "      <th>sale_date</th>\n",
       "      <th>channel_id</th>\n",
       "      <th>sale_price</th>\n",
       "      <th>sku_id</th>\n",
       "      <th>Quantity</th>\n",
       "    </tr>\n",
       "  </thead>\n",
       "  <tbody>\n",
       "    <tr>\n",
       "      <th>0</th>\n",
       "      <td>KOB0700394</td>\n",
       "      <td>1900/01/01 00:00:00.000000000</td>\n",
       "      <td>GS01SH10</td>\n",
       "      <td>854.0</td>\n",
       "      <td>285819001501#501#00#XL</td>\n",
       "      <td>1.0</td>\n",
       "    </tr>\n",
       "    <tr>\n",
       "      <th>0</th>\n",
       "      <td>KGS0000013</td>\n",
       "      <td>2008/03/25 00:00:00.000000000</td>\n",
       "      <td>SH01SH07</td>\n",
       "      <td>179.0</td>\n",
       "      <td>0818040230237#0237#00#L</td>\n",
       "      <td>1.0</td>\n",
       "    </tr>\n",
       "    <tr>\n",
       "      <th>1</th>\n",
       "      <td>KGS0000013</td>\n",
       "      <td>2008/03/25 00:00:00.000000000</td>\n",
       "      <td>SH01SH07</td>\n",
       "      <td>299.0</td>\n",
       "      <td>0819050040701#0701#00#XS</td>\n",
       "      <td>1.0</td>\n",
       "    </tr>\n",
       "    <tr>\n",
       "      <th>2</th>\n",
       "      <td>KGS0000156</td>\n",
       "      <td>2008/03/18 00:00:00.000000000</td>\n",
       "      <td>SH01SH07</td>\n",
       "      <td>499.0</td>\n",
       "      <td>0818070021101#1101#32#33</td>\n",
       "      <td>1.0</td>\n",
       "    </tr>\n",
       "    <tr>\n",
       "      <th>6</th>\n",
       "      <td>KGS0001723</td>\n",
       "      <td>2008/03/20 00:00:00.000000000</td>\n",
       "      <td>SH01SH07</td>\n",
       "      <td>92.0</td>\n",
       "      <td>0728040040002#0002#00#L</td>\n",
       "      <td>1.0</td>\n",
       "    </tr>\n",
       "  </tbody>\n",
       "</table>\n",
       "</div>"
      ],
      "text/plain": [
       "      sale_no                      sale_date channel_id  sale_price  \\\n",
       "0  KOB0700394  1900/01/01 00:00:00.000000000   GS01SH10       854.0   \n",
       "0  KGS0000013  2008/03/25 00:00:00.000000000   SH01SH07       179.0   \n",
       "1  KGS0000013  2008/03/25 00:00:00.000000000   SH01SH07       299.0   \n",
       "2  KGS0000156  2008/03/18 00:00:00.000000000   SH01SH07       499.0   \n",
       "6  KGS0001723  2008/03/20 00:00:00.000000000   SH01SH07        92.0   \n",
       "\n",
       "                     sku_id  Quantity  \n",
       "0    285819001501#501#00#XL       1.0  \n",
       "0   0818040230237#0237#00#L       1.0  \n",
       "1  0819050040701#0701#00#XS       1.0  \n",
       "2  0818070021101#1101#32#33       1.0  \n",
       "6   0728040040002#0002#00#L       1.0  "
      ]
     },
     "execution_count": 16,
     "metadata": {},
     "output_type": "execute_result"
    }
   ],
   "source": [
    "df1[:5]"
   ]
  },
  {
   "cell_type": "code",
   "execution_count": 17,
   "metadata": {},
   "outputs": [],
   "source": [
    "df2 = df1['sale_date'].str.split(' 00:00:',expand=True) #按\",\"进行切分"
   ]
  },
  {
   "cell_type": "code",
   "execution_count": 18,
   "metadata": {},
   "outputs": [
    {
     "data": {
      "text/html": [
       "<div>\n",
       "<style scoped>\n",
       "    .dataframe tbody tr th:only-of-type {\n",
       "        vertical-align: middle;\n",
       "    }\n",
       "\n",
       "    .dataframe tbody tr th {\n",
       "        vertical-align: top;\n",
       "    }\n",
       "\n",
       "    .dataframe thead th {\n",
       "        text-align: right;\n",
       "    }\n",
       "</style>\n",
       "<table border=\"1\" class=\"dataframe\">\n",
       "  <thead>\n",
       "    <tr style=\"text-align: right;\">\n",
       "      <th></th>\n",
       "      <th>0</th>\n",
       "      <th>1</th>\n",
       "    </tr>\n",
       "  </thead>\n",
       "  <tbody>\n",
       "    <tr>\n",
       "      <th>0</th>\n",
       "      <td>1900/01/01</td>\n",
       "      <td>00.000000000</td>\n",
       "    </tr>\n",
       "    <tr>\n",
       "      <th>0</th>\n",
       "      <td>2008/03/25</td>\n",
       "      <td>00.000000000</td>\n",
       "    </tr>\n",
       "    <tr>\n",
       "      <th>1</th>\n",
       "      <td>2008/03/25</td>\n",
       "      <td>00.000000000</td>\n",
       "    </tr>\n",
       "    <tr>\n",
       "      <th>2</th>\n",
       "      <td>2008/03/18</td>\n",
       "      <td>00.000000000</td>\n",
       "    </tr>\n",
       "    <tr>\n",
       "      <th>6</th>\n",
       "      <td>2008/03/20</td>\n",
       "      <td>00.000000000</td>\n",
       "    </tr>\n",
       "  </tbody>\n",
       "</table>\n",
       "</div>"
      ],
      "text/plain": [
       "            0             1\n",
       "0  1900/01/01  00.000000000\n",
       "0  2008/03/25  00.000000000\n",
       "1  2008/03/25  00.000000000\n",
       "2  2008/03/18  00.000000000\n",
       "6  2008/03/20  00.000000000"
      ]
     },
     "execution_count": 18,
     "metadata": {},
     "output_type": "execute_result"
    }
   ],
   "source": [
    "df2[:5]"
   ]
  },
  {
   "cell_type": "code",
   "execution_count": 19,
   "metadata": {},
   "outputs": [],
   "source": [
    "sale_Date=df2.iloc[:,0]"
   ]
  },
  {
   "cell_type": "code",
   "execution_count": 20,
   "metadata": {},
   "outputs": [
    {
     "data": {
      "text/plain": [
       "0    1900/01/01\n",
       "0    2008/03/25\n",
       "1    2008/03/25\n",
       "2    2008/03/18\n",
       "6    2008/03/20\n",
       "Name: 0, dtype: object"
      ]
     },
     "execution_count": 20,
     "metadata": {},
     "output_type": "execute_result"
    }
   ],
   "source": [
    "sale_Date[:5]"
   ]
  },
  {
   "cell_type": "code",
   "execution_count": 21,
   "metadata": {},
   "outputs": [],
   "source": [
    "df1=df1.drop(['sale_date'],axis=1)"
   ]
  },
  {
   "cell_type": "code",
   "execution_count": 22,
   "metadata": {},
   "outputs": [
    {
     "data": {
      "text/html": [
       "<div>\n",
       "<style scoped>\n",
       "    .dataframe tbody tr th:only-of-type {\n",
       "        vertical-align: middle;\n",
       "    }\n",
       "\n",
       "    .dataframe tbody tr th {\n",
       "        vertical-align: top;\n",
       "    }\n",
       "\n",
       "    .dataframe thead th {\n",
       "        text-align: right;\n",
       "    }\n",
       "</style>\n",
       "<table border=\"1\" class=\"dataframe\">\n",
       "  <thead>\n",
       "    <tr style=\"text-align: right;\">\n",
       "      <th></th>\n",
       "      <th>sale_no</th>\n",
       "      <th>channel_id</th>\n",
       "      <th>sale_price</th>\n",
       "      <th>sku_id</th>\n",
       "      <th>Quantity</th>\n",
       "    </tr>\n",
       "  </thead>\n",
       "  <tbody>\n",
       "    <tr>\n",
       "      <th>0</th>\n",
       "      <td>KOB0700394</td>\n",
       "      <td>GS01SH10</td>\n",
       "      <td>854.0</td>\n",
       "      <td>285819001501#501#00#XL</td>\n",
       "      <td>1.0</td>\n",
       "    </tr>\n",
       "    <tr>\n",
       "      <th>0</th>\n",
       "      <td>KGS0000013</td>\n",
       "      <td>SH01SH07</td>\n",
       "      <td>179.0</td>\n",
       "      <td>0818040230237#0237#00#L</td>\n",
       "      <td>1.0</td>\n",
       "    </tr>\n",
       "    <tr>\n",
       "      <th>1</th>\n",
       "      <td>KGS0000013</td>\n",
       "      <td>SH01SH07</td>\n",
       "      <td>299.0</td>\n",
       "      <td>0819050040701#0701#00#XS</td>\n",
       "      <td>1.0</td>\n",
       "    </tr>\n",
       "    <tr>\n",
       "      <th>2</th>\n",
       "      <td>KGS0000156</td>\n",
       "      <td>SH01SH07</td>\n",
       "      <td>499.0</td>\n",
       "      <td>0818070021101#1101#32#33</td>\n",
       "      <td>1.0</td>\n",
       "    </tr>\n",
       "    <tr>\n",
       "      <th>6</th>\n",
       "      <td>KGS0001723</td>\n",
       "      <td>SH01SH07</td>\n",
       "      <td>92.0</td>\n",
       "      <td>0728040040002#0002#00#L</td>\n",
       "      <td>1.0</td>\n",
       "    </tr>\n",
       "  </tbody>\n",
       "</table>\n",
       "</div>"
      ],
      "text/plain": [
       "      sale_no channel_id  sale_price                    sku_id  Quantity\n",
       "0  KOB0700394   GS01SH10       854.0    285819001501#501#00#XL       1.0\n",
       "0  KGS0000013   SH01SH07       179.0   0818040230237#0237#00#L       1.0\n",
       "1  KGS0000013   SH01SH07       299.0  0819050040701#0701#00#XS       1.0\n",
       "2  KGS0000156   SH01SH07       499.0  0818070021101#1101#32#33       1.0\n",
       "6  KGS0001723   SH01SH07        92.0   0728040040002#0002#00#L       1.0"
      ]
     },
     "execution_count": 22,
     "metadata": {},
     "output_type": "execute_result"
    }
   ],
   "source": [
    "df1[:5]"
   ]
  },
  {
   "cell_type": "code",
   "execution_count": 23,
   "metadata": {},
   "outputs": [],
   "source": [
    "df1['sale_date']=sale_Date"
   ]
  },
  {
   "cell_type": "code",
   "execution_count": 24,
   "metadata": {},
   "outputs": [
    {
     "data": {
      "text/html": [
       "<div>\n",
       "<style scoped>\n",
       "    .dataframe tbody tr th:only-of-type {\n",
       "        vertical-align: middle;\n",
       "    }\n",
       "\n",
       "    .dataframe tbody tr th {\n",
       "        vertical-align: top;\n",
       "    }\n",
       "\n",
       "    .dataframe thead th {\n",
       "        text-align: right;\n",
       "    }\n",
       "</style>\n",
       "<table border=\"1\" class=\"dataframe\">\n",
       "  <thead>\n",
       "    <tr style=\"text-align: right;\">\n",
       "      <th></th>\n",
       "      <th>sale_no</th>\n",
       "      <th>channel_id</th>\n",
       "      <th>sale_price</th>\n",
       "      <th>sku_id</th>\n",
       "      <th>Quantity</th>\n",
       "      <th>sale_date</th>\n",
       "    </tr>\n",
       "  </thead>\n",
       "  <tbody>\n",
       "    <tr>\n",
       "      <th>0</th>\n",
       "      <td>KOB0700394</td>\n",
       "      <td>GS01SH10</td>\n",
       "      <td>854.0</td>\n",
       "      <td>285819001501#501#00#XL</td>\n",
       "      <td>1.0</td>\n",
       "      <td>1900/01/01</td>\n",
       "    </tr>\n",
       "    <tr>\n",
       "      <th>0</th>\n",
       "      <td>KGS0000013</td>\n",
       "      <td>SH01SH07</td>\n",
       "      <td>179.0</td>\n",
       "      <td>0818040230237#0237#00#L</td>\n",
       "      <td>1.0</td>\n",
       "      <td>2008/03/25</td>\n",
       "    </tr>\n",
       "    <tr>\n",
       "      <th>1</th>\n",
       "      <td>KGS0000013</td>\n",
       "      <td>SH01SH07</td>\n",
       "      <td>299.0</td>\n",
       "      <td>0819050040701#0701#00#XS</td>\n",
       "      <td>1.0</td>\n",
       "      <td>2008/03/25</td>\n",
       "    </tr>\n",
       "    <tr>\n",
       "      <th>2</th>\n",
       "      <td>KGS0000156</td>\n",
       "      <td>SH01SH07</td>\n",
       "      <td>499.0</td>\n",
       "      <td>0818070021101#1101#32#33</td>\n",
       "      <td>1.0</td>\n",
       "      <td>2008/03/18</td>\n",
       "    </tr>\n",
       "    <tr>\n",
       "      <th>6</th>\n",
       "      <td>KGS0001723</td>\n",
       "      <td>SH01SH07</td>\n",
       "      <td>92.0</td>\n",
       "      <td>0728040040002#0002#00#L</td>\n",
       "      <td>1.0</td>\n",
       "      <td>2008/03/20</td>\n",
       "    </tr>\n",
       "  </tbody>\n",
       "</table>\n",
       "</div>"
      ],
      "text/plain": [
       "      sale_no channel_id  sale_price                    sku_id  Quantity  \\\n",
       "0  KOB0700394   GS01SH10       854.0    285819001501#501#00#XL       1.0   \n",
       "0  KGS0000013   SH01SH07       179.0   0818040230237#0237#00#L       1.0   \n",
       "1  KGS0000013   SH01SH07       299.0  0819050040701#0701#00#XS       1.0   \n",
       "2  KGS0000156   SH01SH07       499.0  0818070021101#1101#32#33       1.0   \n",
       "6  KGS0001723   SH01SH07        92.0   0728040040002#0002#00#L       1.0   \n",
       "\n",
       "    sale_date  \n",
       "0  1900/01/01  \n",
       "0  2008/03/25  \n",
       "1  2008/03/25  \n",
       "2  2008/03/18  \n",
       "6  2008/03/20  "
      ]
     },
     "execution_count": 24,
     "metadata": {},
     "output_type": "execute_result"
    }
   ],
   "source": [
    "df1[:5]"
   ]
  },
  {
   "cell_type": "code",
   "execution_count": 25,
   "metadata": {},
   "outputs": [],
   "source": [
    "df3=df1"
   ]
  },
  {
   "cell_type": "code",
   "execution_count": 26,
   "metadata": {},
   "outputs": [
    {
     "data": {
      "text/html": [
       "<div>\n",
       "<style scoped>\n",
       "    .dataframe tbody tr th:only-of-type {\n",
       "        vertical-align: middle;\n",
       "    }\n",
       "\n",
       "    .dataframe tbody tr th {\n",
       "        vertical-align: top;\n",
       "    }\n",
       "\n",
       "    .dataframe thead th {\n",
       "        text-align: right;\n",
       "    }\n",
       "</style>\n",
       "<table border=\"1\" class=\"dataframe\">\n",
       "  <thead>\n",
       "    <tr style=\"text-align: right;\">\n",
       "      <th></th>\n",
       "      <th>sale_no</th>\n",
       "      <th>channel_id</th>\n",
       "      <th>sale_price</th>\n",
       "      <th>sku_id</th>\n",
       "      <th>Quantity</th>\n",
       "      <th>sale_date</th>\n",
       "    </tr>\n",
       "  </thead>\n",
       "  <tbody>\n",
       "    <tr>\n",
       "      <th>0</th>\n",
       "      <td>KOB0700394</td>\n",
       "      <td>GS01SH10</td>\n",
       "      <td>854.0</td>\n",
       "      <td>285819001501#501#00#XL</td>\n",
       "      <td>1.0</td>\n",
       "      <td>1900/01/01</td>\n",
       "    </tr>\n",
       "    <tr>\n",
       "      <th>0</th>\n",
       "      <td>KGS0000013</td>\n",
       "      <td>SH01SH07</td>\n",
       "      <td>179.0</td>\n",
       "      <td>0818040230237#0237#00#L</td>\n",
       "      <td>1.0</td>\n",
       "      <td>2008/03/25</td>\n",
       "    </tr>\n",
       "    <tr>\n",
       "      <th>1</th>\n",
       "      <td>KGS0000013</td>\n",
       "      <td>SH01SH07</td>\n",
       "      <td>299.0</td>\n",
       "      <td>0819050040701#0701#00#XS</td>\n",
       "      <td>1.0</td>\n",
       "      <td>2008/03/25</td>\n",
       "    </tr>\n",
       "    <tr>\n",
       "      <th>2</th>\n",
       "      <td>KGS0000156</td>\n",
       "      <td>SH01SH07</td>\n",
       "      <td>499.0</td>\n",
       "      <td>0818070021101#1101#32#33</td>\n",
       "      <td>1.0</td>\n",
       "      <td>2008/03/18</td>\n",
       "    </tr>\n",
       "    <tr>\n",
       "      <th>6</th>\n",
       "      <td>KGS0001723</td>\n",
       "      <td>SH01SH07</td>\n",
       "      <td>92.0</td>\n",
       "      <td>0728040040002#0002#00#L</td>\n",
       "      <td>1.0</td>\n",
       "      <td>2008/03/20</td>\n",
       "    </tr>\n",
       "  </tbody>\n",
       "</table>\n",
       "</div>"
      ],
      "text/plain": [
       "      sale_no channel_id  sale_price                    sku_id  Quantity  \\\n",
       "0  KOB0700394   GS01SH10       854.0    285819001501#501#00#XL       1.0   \n",
       "0  KGS0000013   SH01SH07       179.0   0818040230237#0237#00#L       1.0   \n",
       "1  KGS0000013   SH01SH07       299.0  0819050040701#0701#00#XS       1.0   \n",
       "2  KGS0000156   SH01SH07       499.0  0818070021101#1101#32#33       1.0   \n",
       "6  KGS0001723   SH01SH07        92.0   0728040040002#0002#00#L       1.0   \n",
       "\n",
       "    sale_date  \n",
       "0  1900/01/01  \n",
       "0  2008/03/25  \n",
       "1  2008/03/25  \n",
       "2  2008/03/18  \n",
       "6  2008/03/20  "
      ]
     },
     "execution_count": 26,
     "metadata": {},
     "output_type": "execute_result"
    }
   ],
   "source": [
    "df3[:5]"
   ]
  },
  {
   "cell_type": "code",
   "execution_count": 27,
   "metadata": {},
   "outputs": [],
   "source": [
    "df4 = df3['sale_date'].str.split('/',expand=True) #按\",\"进行切分"
   ]
  },
  {
   "cell_type": "code",
   "execution_count": 28,
   "metadata": {},
   "outputs": [
    {
     "data": {
      "text/html": [
       "<div>\n",
       "<style scoped>\n",
       "    .dataframe tbody tr th:only-of-type {\n",
       "        vertical-align: middle;\n",
       "    }\n",
       "\n",
       "    .dataframe tbody tr th {\n",
       "        vertical-align: top;\n",
       "    }\n",
       "\n",
       "    .dataframe thead th {\n",
       "        text-align: right;\n",
       "    }\n",
       "</style>\n",
       "<table border=\"1\" class=\"dataframe\">\n",
       "  <thead>\n",
       "    <tr style=\"text-align: right;\">\n",
       "      <th></th>\n",
       "      <th>0</th>\n",
       "      <th>1</th>\n",
       "      <th>2</th>\n",
       "    </tr>\n",
       "  </thead>\n",
       "  <tbody>\n",
       "    <tr>\n",
       "      <th>0</th>\n",
       "      <td>1900</td>\n",
       "      <td>01</td>\n",
       "      <td>01</td>\n",
       "    </tr>\n",
       "    <tr>\n",
       "      <th>0</th>\n",
       "      <td>2008</td>\n",
       "      <td>03</td>\n",
       "      <td>25</td>\n",
       "    </tr>\n",
       "    <tr>\n",
       "      <th>1</th>\n",
       "      <td>2008</td>\n",
       "      <td>03</td>\n",
       "      <td>25</td>\n",
       "    </tr>\n",
       "    <tr>\n",
       "      <th>2</th>\n",
       "      <td>2008</td>\n",
       "      <td>03</td>\n",
       "      <td>18</td>\n",
       "    </tr>\n",
       "    <tr>\n",
       "      <th>6</th>\n",
       "      <td>2008</td>\n",
       "      <td>03</td>\n",
       "      <td>20</td>\n",
       "    </tr>\n",
       "  </tbody>\n",
       "</table>\n",
       "</div>"
      ],
      "text/plain": [
       "      0   1   2\n",
       "0  1900  01  01\n",
       "0  2008  03  25\n",
       "1  2008  03  25\n",
       "2  2008  03  18\n",
       "6  2008  03  20"
      ]
     },
     "execution_count": 28,
     "metadata": {},
     "output_type": "execute_result"
    }
   ],
   "source": [
    "df4[:5]"
   ]
  },
  {
   "cell_type": "code",
   "execution_count": 29,
   "metadata": {},
   "outputs": [],
   "source": [
    "df3['sale_date_year']=df4.iloc[:,0]"
   ]
  },
  {
   "cell_type": "code",
   "execution_count": 30,
   "metadata": {},
   "outputs": [],
   "source": [
    "df3['sale_date_month']=df4.iloc[:,1]"
   ]
  },
  {
   "cell_type": "code",
   "execution_count": 31,
   "metadata": {},
   "outputs": [
    {
     "data": {
      "text/html": [
       "<div>\n",
       "<style scoped>\n",
       "    .dataframe tbody tr th:only-of-type {\n",
       "        vertical-align: middle;\n",
       "    }\n",
       "\n",
       "    .dataframe tbody tr th {\n",
       "        vertical-align: top;\n",
       "    }\n",
       "\n",
       "    .dataframe thead th {\n",
       "        text-align: right;\n",
       "    }\n",
       "</style>\n",
       "<table border=\"1\" class=\"dataframe\">\n",
       "  <thead>\n",
       "    <tr style=\"text-align: right;\">\n",
       "      <th></th>\n",
       "      <th>sale_no</th>\n",
       "      <th>channel_id</th>\n",
       "      <th>sale_price</th>\n",
       "      <th>sku_id</th>\n",
       "      <th>Quantity</th>\n",
       "      <th>sale_date</th>\n",
       "      <th>sale_date_year</th>\n",
       "      <th>sale_date_month</th>\n",
       "    </tr>\n",
       "  </thead>\n",
       "  <tbody>\n",
       "    <tr>\n",
       "      <th>0</th>\n",
       "      <td>KOB0700394</td>\n",
       "      <td>GS01SH10</td>\n",
       "      <td>854.0</td>\n",
       "      <td>285819001501#501#00#XL</td>\n",
       "      <td>1.0</td>\n",
       "      <td>1900/01/01</td>\n",
       "      <td>1900</td>\n",
       "      <td>01</td>\n",
       "    </tr>\n",
       "    <tr>\n",
       "      <th>0</th>\n",
       "      <td>KGS0000013</td>\n",
       "      <td>SH01SH07</td>\n",
       "      <td>179.0</td>\n",
       "      <td>0818040230237#0237#00#L</td>\n",
       "      <td>1.0</td>\n",
       "      <td>2008/03/25</td>\n",
       "      <td>2008</td>\n",
       "      <td>03</td>\n",
       "    </tr>\n",
       "    <tr>\n",
       "      <th>1</th>\n",
       "      <td>KGS0000013</td>\n",
       "      <td>SH01SH07</td>\n",
       "      <td>299.0</td>\n",
       "      <td>0819050040701#0701#00#XS</td>\n",
       "      <td>1.0</td>\n",
       "      <td>2008/03/25</td>\n",
       "      <td>2008</td>\n",
       "      <td>03</td>\n",
       "    </tr>\n",
       "    <tr>\n",
       "      <th>2</th>\n",
       "      <td>KGS0000156</td>\n",
       "      <td>SH01SH07</td>\n",
       "      <td>499.0</td>\n",
       "      <td>0818070021101#1101#32#33</td>\n",
       "      <td>1.0</td>\n",
       "      <td>2008/03/18</td>\n",
       "      <td>2008</td>\n",
       "      <td>03</td>\n",
       "    </tr>\n",
       "    <tr>\n",
       "      <th>6</th>\n",
       "      <td>KGS0001723</td>\n",
       "      <td>SH01SH07</td>\n",
       "      <td>92.0</td>\n",
       "      <td>0728040040002#0002#00#L</td>\n",
       "      <td>1.0</td>\n",
       "      <td>2008/03/20</td>\n",
       "      <td>2008</td>\n",
       "      <td>03</td>\n",
       "    </tr>\n",
       "  </tbody>\n",
       "</table>\n",
       "</div>"
      ],
      "text/plain": [
       "      sale_no channel_id  sale_price                    sku_id  Quantity  \\\n",
       "0  KOB0700394   GS01SH10       854.0    285819001501#501#00#XL       1.0   \n",
       "0  KGS0000013   SH01SH07       179.0   0818040230237#0237#00#L       1.0   \n",
       "1  KGS0000013   SH01SH07       299.0  0819050040701#0701#00#XS       1.0   \n",
       "2  KGS0000156   SH01SH07       499.0  0818070021101#1101#32#33       1.0   \n",
       "6  KGS0001723   SH01SH07        92.0   0728040040002#0002#00#L       1.0   \n",
       "\n",
       "    sale_date sale_date_year sale_date_month  \n",
       "0  1900/01/01           1900              01  \n",
       "0  2008/03/25           2008              03  \n",
       "1  2008/03/25           2008              03  \n",
       "2  2008/03/18           2008              03  \n",
       "6  2008/03/20           2008              03  "
      ]
     },
     "execution_count": 31,
     "metadata": {},
     "output_type": "execute_result"
    }
   ],
   "source": [
    "df3[:5]"
   ]
  },
  {
   "cell_type": "markdown",
   "metadata": {},
   "source": [
    "##### 只保留2008-2018年的数据"
   ]
  },
  {
   "cell_type": "code",
   "execution_count": 32,
   "metadata": {},
   "outputs": [
    {
     "data": {
      "text/plain": [
       "3662232"
      ]
     },
     "execution_count": 32,
     "metadata": {},
     "output_type": "execute_result"
    }
   ],
   "source": [
    "len(df3)"
   ]
  },
  {
   "cell_type": "code",
   "execution_count": 35,
   "metadata": {},
   "outputs": [],
   "source": [
    "df3.sale_date_year=df3.sale_date_year.astype(int)"
   ]
  },
  {
   "cell_type": "code",
   "execution_count": 36,
   "metadata": {},
   "outputs": [],
   "source": [
    "df = df3[(df3.sale_date_year>=2008)&(df3.sale_date_year<=2018)]"
   ]
  },
  {
   "cell_type": "code",
   "execution_count": 37,
   "metadata": {},
   "outputs": [
    {
     "data": {
      "text/plain": [
       "3662231"
      ]
     },
     "execution_count": 37,
     "metadata": {},
     "output_type": "execute_result"
    }
   ],
   "source": [
    "len(df)"
   ]
  },
  {
   "cell_type": "markdown",
   "metadata": {},
   "source": [
    "##### 保存新的数据"
   ]
  },
  {
   "cell_type": "code",
   "execution_count": 38,
   "metadata": {},
   "outputs": [],
   "source": [
    "df.to_csv('data_01.csv')"
   ]
  }
 ],
 "metadata": {
  "kernelspec": {
   "display_name": "Python 3",
   "language": "python",
   "name": "python3"
  },
  "language_info": {
   "codemirror_mode": {
    "name": "ipython",
    "version": 3
   },
   "file_extension": ".py",
   "mimetype": "text/x-python",
   "name": "python",
   "nbconvert_exporter": "python",
   "pygments_lexer": "ipython3",
   "version": "3.5.5"
  }
 },
 "nbformat": 4,
 "nbformat_minor": 2
}
