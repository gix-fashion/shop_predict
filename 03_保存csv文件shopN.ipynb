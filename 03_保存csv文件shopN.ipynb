{
 "cells": [
  {
   "cell_type": "code",
   "execution_count": 1,
   "metadata": {},
   "outputs": [],
   "source": [
    "import pandas as pd\n",
    "import numpy as np\n",
    "\n",
    "df = pd.read_csv(r\"E:\\【ML_DL】\\【服装项目】\\dataset\\data_full\\sale\\data_01.csv\",encoding='utf-8',low_memory=False)\n",
    "df=df.drop(['Unnamed: 0'],axis=1)\n",
    "\n",
    "channel=df['channel_id'].value_counts()\n",
    "\n",
    "shop_id=channel.index"
   ]
  },
  {
   "cell_type": "code",
   "execution_count": 3,
   "metadata": {},
   "outputs": [
    {
     "data": {
      "text/plain": [
       "EB01SH02    189947\n",
       "SH01SH05     91338\n",
       "SH01SH07     90592\n",
       "GS01SH07     73730\n",
       "SH01SH36     71503\n",
       "Name: channel_id, dtype: int64"
      ]
     },
     "execution_count": 3,
     "metadata": {},
     "output_type": "execute_result"
    }
   ],
   "source": [
    "channel[:5]"
   ]
  },
  {
   "cell_type": "code",
   "execution_count": 4,
   "metadata": {},
   "outputs": [
    {
     "data": {
      "text/plain": [
       "638"
      ]
     },
     "execution_count": 4,
     "metadata": {},
     "output_type": "execute_result"
    }
   ],
   "source": [
    "len(channel)"
   ]
  },
  {
   "cell_type": "code",
   "execution_count": null,
   "metadata": {},
   "outputs": [],
   "source": [
    "i=1\n",
    "for shop in shop_id:\n",
    "    df = pd.read_csv(r\"E:\\【ML_DL】\\【服装项目】\\dataset\\data_full\\sale\\data_01.csv\",encoding='utf-8',low_memory=False)\n",
    "    df=df.drop(['Unnamed: 0'],axis=1)\n",
    "\n",
    "    # 取出对应的店铺的数据\n",
    "    df=df[df['channel_id']==shop]\n",
    "\n",
    "#     df = df.drop(['channel_id','sku_id','sale_no','sku_id','sale_date_year','sale_date_month'],axis = 1)\n",
    "    df = df.drop(['sale_date_year','sale_date_month'],axis = 1)\n",
    "\n",
    "    \n",
    "    df['sale_date']=pd.to_datetime(df['sale_date'], format=\"%Y/%m/%d\")\n",
    "    df.set_index('sale_date', inplace=True)\n",
    "\n",
    "    # 将时间分段，以周为单位\n",
    "    df = df.resample('W', loffset=pd.offsets.timedelta(days=-6)).sum()\n",
    "\n",
    "    # x = data.to_csv(os.path.join(path,str(i) + '-' + str(j) + '.txt'),sep='\\t',header=None,index=None)\n",
    "    df.to_csv('shop_'+str(i)+'.csv')\n",
    "    i += 1"
   ]
  }
 ],
 "metadata": {
  "kernelspec": {
   "display_name": "Python 3",
   "language": "python",
   "name": "python3"
  },
  "language_info": {
   "codemirror_mode": {
    "name": "ipython",
    "version": 3
   },
   "file_extension": ".py",
   "mimetype": "text/x-python",
   "name": "python",
   "nbconvert_exporter": "python",
   "pygments_lexer": "ipython3",
   "version": "3.5.5"
  }
 },
 "nbformat": 4,
 "nbformat_minor": 2
}
