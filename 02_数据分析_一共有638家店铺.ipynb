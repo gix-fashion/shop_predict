{
 "cells": [
  {
   "cell_type": "markdown",
   "metadata": {},
   "source": [
    "##### 对数据data_01进行分析"
   ]
  },
  {
   "cell_type": "code",
   "execution_count": 1,
   "metadata": {},
   "outputs": [],
   "source": [
    "import pandas as pd\n",
    "import numpy as np"
   ]
  },
  {
   "cell_type": "code",
   "execution_count": 2,
   "metadata": {},
   "outputs": [],
   "source": [
    "df = pd.read_csv(r\"E:\\【ML_DL】\\【服装项目】\\dataset\\data_full\\sale\\data_01.csv\",encoding='utf-8',low_memory=False)"
   ]
  },
  {
   "cell_type": "code",
   "execution_count": 3,
   "metadata": {},
   "outputs": [],
   "source": [
    "df=df.drop(['Unnamed: 0'],axis=1)"
   ]
  },
  {
   "cell_type": "code",
   "execution_count": 4,
   "metadata": {},
   "outputs": [
    {
     "data": {
      "text/html": [
       "<div>\n",
       "<style scoped>\n",
       "    .dataframe tbody tr th:only-of-type {\n",
       "        vertical-align: middle;\n",
       "    }\n",
       "\n",
       "    .dataframe tbody tr th {\n",
       "        vertical-align: top;\n",
       "    }\n",
       "\n",
       "    .dataframe thead th {\n",
       "        text-align: right;\n",
       "    }\n",
       "</style>\n",
       "<table border=\"1\" class=\"dataframe\">\n",
       "  <thead>\n",
       "    <tr style=\"text-align: right;\">\n",
       "      <th></th>\n",
       "      <th>sale_no</th>\n",
       "      <th>channel_id</th>\n",
       "      <th>sale_price</th>\n",
       "      <th>sku_id</th>\n",
       "      <th>Quantity</th>\n",
       "      <th>sale_date</th>\n",
       "      <th>sale_date_year</th>\n",
       "      <th>sale_date_month</th>\n",
       "    </tr>\n",
       "  </thead>\n",
       "  <tbody>\n",
       "    <tr>\n",
       "      <th>0</th>\n",
       "      <td>KGS0000013</td>\n",
       "      <td>SH01SH07</td>\n",
       "      <td>179.0</td>\n",
       "      <td>0818040230237#0237#00#L</td>\n",
       "      <td>1.0</td>\n",
       "      <td>2008/03/25</td>\n",
       "      <td>2008</td>\n",
       "      <td>3</td>\n",
       "    </tr>\n",
       "    <tr>\n",
       "      <th>1</th>\n",
       "      <td>KGS0000013</td>\n",
       "      <td>SH01SH07</td>\n",
       "      <td>299.0</td>\n",
       "      <td>0819050040701#0701#00#XS</td>\n",
       "      <td>1.0</td>\n",
       "      <td>2008/03/25</td>\n",
       "      <td>2008</td>\n",
       "      <td>3</td>\n",
       "    </tr>\n",
       "    <tr>\n",
       "      <th>2</th>\n",
       "      <td>KGS0000156</td>\n",
       "      <td>SH01SH07</td>\n",
       "      <td>499.0</td>\n",
       "      <td>0818070021101#1101#32#33</td>\n",
       "      <td>1.0</td>\n",
       "      <td>2008/03/18</td>\n",
       "      <td>2008</td>\n",
       "      <td>3</td>\n",
       "    </tr>\n",
       "    <tr>\n",
       "      <th>3</th>\n",
       "      <td>KGS0001723</td>\n",
       "      <td>SH01SH07</td>\n",
       "      <td>92.0</td>\n",
       "      <td>0728040040002#0002#00#L</td>\n",
       "      <td>1.0</td>\n",
       "      <td>2008/03/20</td>\n",
       "      <td>2008</td>\n",
       "      <td>3</td>\n",
       "    </tr>\n",
       "    <tr>\n",
       "      <th>4</th>\n",
       "      <td>KGS0001723</td>\n",
       "      <td>SH01SH07</td>\n",
       "      <td>120.0</td>\n",
       "      <td>0728050060310#0310#00#S</td>\n",
       "      <td>1.0</td>\n",
       "      <td>2008/03/20</td>\n",
       "      <td>2008</td>\n",
       "      <td>3</td>\n",
       "    </tr>\n",
       "  </tbody>\n",
       "</table>\n",
       "</div>"
      ],
      "text/plain": [
       "      sale_no channel_id  sale_price                    sku_id  Quantity  \\\n",
       "0  KGS0000013   SH01SH07       179.0   0818040230237#0237#00#L       1.0   \n",
       "1  KGS0000013   SH01SH07       299.0  0819050040701#0701#00#XS       1.0   \n",
       "2  KGS0000156   SH01SH07       499.0  0818070021101#1101#32#33       1.0   \n",
       "3  KGS0001723   SH01SH07        92.0   0728040040002#0002#00#L       1.0   \n",
       "4  KGS0001723   SH01SH07       120.0   0728050060310#0310#00#S       1.0   \n",
       "\n",
       "    sale_date  sale_date_year  sale_date_month  \n",
       "0  2008/03/25            2008                3  \n",
       "1  2008/03/25            2008                3  \n",
       "2  2008/03/18            2008                3  \n",
       "3  2008/03/20            2008                3  \n",
       "4  2008/03/20            2008                3  "
      ]
     },
     "execution_count": 4,
     "metadata": {},
     "output_type": "execute_result"
    }
   ],
   "source": [
    "df[:5]"
   ]
  },
  {
   "cell_type": "markdown",
   "metadata": {},
   "source": [
    "##### channel_id--店铺id"
   ]
  },
  {
   "cell_type": "code",
   "execution_count": 5,
   "metadata": {},
   "outputs": [
    {
     "data": {
      "text/plain": [
       "EB01SH02    189947\n",
       "SH01SH05     91338\n",
       "SH01SH07     90592\n",
       "GS01SH07     73730\n",
       "SH01SH36     71503\n",
       "SH01SH39     66458\n",
       "SH01SH13     61518\n",
       "SH01SH38     49990\n",
       "SH02SH02     48625\n",
       "SH01SH51     47750\n",
       "SH02SH05     46757\n",
       "SH01SH37     45924\n",
       "SH01SH15     44766\n",
       "GS01SH09     42801\n",
       "GS01SH10     40527\n",
       "SH02SH03     39182\n",
       "EB01SH01     39005\n",
       "TJ01SH08     38533\n",
       "TJ01SH12     36005\n",
       "SH01SH31     34950\n",
       "GS01SH08     34091\n",
       "SH02SH08     33653\n",
       "SH02SH11     33116\n",
       "HN01SH02     30010\n",
       "TJ01SH01     26012\n",
       "SH01SH50     25668\n",
       "GS01SH05     25600\n",
       "SH01SH10     25467\n",
       "SH01SH56     23375\n",
       "SH02SH12     23176\n",
       "             ...  \n",
       "MG01ST02        71\n",
       "GS01SH42        65\n",
       "GS01SH41        64\n",
       "NC01SH71        59\n",
       "CC01SH50        55\n",
       "GZ02SH13        52\n",
       "CC01SH58        51\n",
       "nc01sh11        50\n",
       "PS01SH12        42\n",
       "AAB96           39\n",
       "JX01SH04        30\n",
       "TJ01ST03        22\n",
       "BJ01SH99        22\n",
       "AH03ST01        20\n",
       "GX01ST02        17\n",
       "YN02SH05        17\n",
       "HB07ST01        12\n",
       "SH01sh14        10\n",
       "SH01SH28        10\n",
       "sh01sh51         9\n",
       "EB01SH03         5\n",
       "HB01ST01         5\n",
       "XJ01ST01         5\n",
       "nc01sh42         5\n",
       "ZJ12ST01         4\n",
       "AAB89            3\n",
       "HL02ST02         2\n",
       "sh01SH45         1\n",
       "EB01SH04         1\n",
       "sh01sh14         1\n",
       "Name: channel_id, Length: 638, dtype: int64"
      ]
     },
     "execution_count": 5,
     "metadata": {},
     "output_type": "execute_result"
    }
   ],
   "source": [
    "df['channel_id'].value_counts()"
   ]
  },
  {
   "cell_type": "markdown",
   "metadata": {},
   "source": [
    "##### 一共有638家店铺，接下来需要对每个店铺的数据分布，分别进行销售预测"
   ]
  }
 ],
 "metadata": {
  "kernelspec": {
   "display_name": "Python 3",
   "language": "python",
   "name": "python3"
  },
  "language_info": {
   "codemirror_mode": {
    "name": "ipython",
    "version": 3
   },
   "file_extension": ".py",
   "mimetype": "text/x-python",
   "name": "python",
   "nbconvert_exporter": "python",
   "pygments_lexer": "ipython3",
   "version": "3.5.5"
  }
 },
 "nbformat": 4,
 "nbformat_minor": 2
}
