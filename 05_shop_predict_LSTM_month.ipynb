{
 "cells": [
  {
   "cell_type": "code",
   "execution_count": 1,
   "metadata": {},
   "outputs": [
    {
     "name": "stderr",
     "output_type": "stream",
     "text": [
      "Using TensorFlow backend.\n"
     ]
    }
   ],
   "source": [
    "import pandas as pd\n",
    "from pandas import DataFrame\n",
    "import numpy as np\n",
    "from math import sqrt\n",
    "from numpy import concatenate\n",
    "from matplotlib import pyplot as plt\n",
    "from pandas import read_csv\n",
    "from pandas import DataFrame\n",
    "from pandas import concat\n",
    "from sklearn.preprocessing import MinMaxScaler\n",
    "from sklearn.preprocessing import LabelEncoder\n",
    "from sklearn.metrics import mean_squared_error\n",
    "from keras.models import Sequential\n",
    "from keras.layers import Dense\n",
    "from keras.layers import LSTM\n",
    "import os\n",
    "path='E:\\【ML_DL】\\【服装项目】\\dataset\\shopN\\data\\shop_'"
   ]
  },
  {
   "cell_type": "markdown",
   "metadata": {},
   "source": [
    "销售数据取自data_full.7z中的'sale_XXX.csv'系列csv文件，将所有sale数据进行合并。一共有638家店铺，其中取出：拥有数据数目大于100条可以用于lstm时序预测、以及日期可以满足预测条件的店铺，用shop_newest_len100表示       "
   ]
  },
  {
   "cell_type": "code",
   "execution_count": 2,
   "metadata": {},
   "outputs": [],
   "source": [
    "shop_newest_len100 = [1, 2, 3, 4, 5, 6, 7, 11, 12, 13, 14, 15, 16, 18, 19, 20, 21, 22, 24, 25, 31, 32, 33, 34, 35, 36, 37, 38, 39, 40, 41, 42, 43, 44, 45, 47, 48, 49, 51, 52, 54, 56, 57, 58, 59, 61, 62, 63, 64, 65, 69, 70, 72, 75, 76, 77, 78, 81, 83, 85, 86, 88, 89, 90, 91, 93, 94, 95, 100, 101, 105, 106, 107, 110, 111, 114, 115, 121, 122, 125, 127, 128, 132, 133, 134, 135, 146, 147, 151, 156, 157, 158, 159, 160, 162, 163, 164, 167, 169, 170, 172, 178, 179, 183, 185, 186, 189, 196, 199, 200, 201, 205, 206, 209, 218, 221, 223, 225, 233, 234, 237, 239, 246, 250, 260, 272, 299, 308, 311, 321, 451, 481]"
   ]
  },
  {
   "cell_type": "markdown",
   "metadata": {},
   "source": [
    "保存每个店铺的数据长度"
   ]
  },
  {
   "cell_type": "code",
   "execution_count": 3,
   "metadata": {},
   "outputs": [],
   "source": [
    "shop_length = []# 保存每个店铺的数据长度\n",
    "for id in shop_newest_len100:\n",
    "    df = pd.read_csv(path+str(id)+'.csv',low_memory=False)\n",
    "    shop_length.append(len(df))"
   ]
  },
  {
   "cell_type": "code",
   "execution_count": 4,
   "metadata": {},
   "outputs": [
    {
     "data": {
      "text/plain": [
       "[225, 558, 558, 446, 366, 331, 513, 177, 362, 497]"
      ]
     },
     "execution_count": 4,
     "metadata": {},
     "output_type": "execute_result"
    }
   ],
   "source": [
    "shop_length[:10]"
   ]
  },
  {
   "cell_type": "code",
   "execution_count": 2,
   "metadata": {},
   "outputs": [],
   "source": [
    "# convert series to supervised learning\n",
    "def series_to_supervised(data, n_in=1, n_out=1, dropnan=True):\n",
    "    n_vars = 1 if type(data) is list else data.shape[1]\n",
    "    df = DataFrame(data)\n",
    "    cols, names = list(), list()\n",
    "    # input sequence (t-n, ... t-1)\n",
    "    for i in range(n_in, 0, -1):\n",
    "        cols.append(df.shift(i))\n",
    "        names += [('var%d(t-%d)' % (j+1, i)) for j in range(n_vars)]\n",
    "    # forecast sequence (t, t+1, ... t+n)\n",
    "    for i in range(0, n_out):\n",
    "        cols.append(df.shift(-i))\n",
    "        if i == 0:\n",
    "            names += [('var%d(t)' % (j+1)) for j in range(n_vars)]\n",
    "        else:\n",
    "            names += [('var%d(t+%d)' % (j+1, i)) for j in range(n_vars)]\n",
    "    # put it all together\n",
    "    agg = concat(cols, axis=1)\n",
    "    agg.columns = names\n",
    "    # drop rows with NaN values\n",
    "    if dropnan:\n",
    "        agg.dropna(inplace=True)\n",
    "    return agg\n",
    "\n",
    "# 定义相对误差的计算\n",
    "def mean_squared_error01(a,b):\n",
    "    e=[]\n",
    "    for i in range(len(a)):\n",
    "        dif = a[i]-b[i]\n",
    "        e1 = abs(dif / b[i])\n",
    "        e.append(e1)\n",
    "    return e"
   ]
  },
  {
   "cell_type": "markdown",
   "metadata": {},
   "source": [
    "这里随机选取第7个店铺进行展示"
   ]
  },
  {
   "cell_type": "code",
   "execution_count": 3,
   "metadata": {},
   "outputs": [
    {
     "data": {
      "text/plain": [
       "513"
      ]
     },
     "execution_count": 3,
     "metadata": {},
     "output_type": "execute_result"
    }
   ],
   "source": [
    "id = 7# 这里随机选取第7个店铺进行展示\n",
    "df = pd.read_csv(path+str(id)+'.csv',low_memory=False)\n",
    "# df=df.drop(['sale_date'],axis=1)\n",
    "len(df)"
   ]
  },
  {
   "cell_type": "markdown",
   "metadata": {},
   "source": [
    "查看修改前，以周销售单位的数据"
   ]
  },
  {
   "cell_type": "code",
   "execution_count": 4,
   "metadata": {},
   "outputs": [
    {
     "data": {
      "text/html": [
       "<div>\n",
       "<style scoped>\n",
       "    .dataframe tbody tr th:only-of-type {\n",
       "        vertical-align: middle;\n",
       "    }\n",
       "\n",
       "    .dataframe tbody tr th {\n",
       "        vertical-align: top;\n",
       "    }\n",
       "\n",
       "    .dataframe thead th {\n",
       "        text-align: right;\n",
       "    }\n",
       "</style>\n",
       "<table border=\"1\" class=\"dataframe\">\n",
       "  <thead>\n",
       "    <tr style=\"text-align: right;\">\n",
       "      <th></th>\n",
       "      <th>sale_date</th>\n",
       "      <th>sale_price</th>\n",
       "      <th>Quantity</th>\n",
       "    </tr>\n",
       "  </thead>\n",
       "  <tbody>\n",
       "    <tr>\n",
       "      <th>0</th>\n",
       "      <td>2009-01-05</td>\n",
       "      <td>26167.5</td>\n",
       "      <td>85.0</td>\n",
       "    </tr>\n",
       "    <tr>\n",
       "      <th>1</th>\n",
       "      <td>2009-01-12</td>\n",
       "      <td>26142.0</td>\n",
       "      <td>81.0</td>\n",
       "    </tr>\n",
       "    <tr>\n",
       "      <th>2</th>\n",
       "      <td>2009-01-19</td>\n",
       "      <td>36358.0</td>\n",
       "      <td>98.0</td>\n",
       "    </tr>\n",
       "    <tr>\n",
       "      <th>3</th>\n",
       "      <td>2009-01-26</td>\n",
       "      <td>20479.0</td>\n",
       "      <td>56.0</td>\n",
       "    </tr>\n",
       "    <tr>\n",
       "      <th>4</th>\n",
       "      <td>2009-02-02</td>\n",
       "      <td>9280.0</td>\n",
       "      <td>35.0</td>\n",
       "    </tr>\n",
       "  </tbody>\n",
       "</table>\n",
       "</div>"
      ],
      "text/plain": [
       "    sale_date  sale_price  Quantity\n",
       "0  2009-01-05     26167.5      85.0\n",
       "1  2009-01-12     26142.0      81.0\n",
       "2  2009-01-19     36358.0      98.0\n",
       "3  2009-01-26     20479.0      56.0\n",
       "4  2009-02-02      9280.0      35.0"
      ]
     },
     "execution_count": 4,
     "metadata": {},
     "output_type": "execute_result"
    }
   ],
   "source": [
    "df[:5]"
   ]
  },
  {
   "cell_type": "code",
   "execution_count": 5,
   "metadata": {},
   "outputs": [],
   "source": [
    "df['sale_date']=pd.to_datetime(df['sale_date'], format=\"%Y/%m/%d\")\n",
    "df.set_index('sale_date', inplace=True)"
   ]
  },
  {
   "cell_type": "code",
   "execution_count": 6,
   "metadata": {},
   "outputs": [],
   "source": [
    "df = df.resample('m').sum()"
   ]
  },
  {
   "cell_type": "markdown",
   "metadata": {},
   "source": [
    "查看修改后，以月为销售单位的数据"
   ]
  },
  {
   "cell_type": "code",
   "execution_count": 7,
   "metadata": {},
   "outputs": [
    {
     "data": {
      "text/html": [
       "<div>\n",
       "<style scoped>\n",
       "    .dataframe tbody tr th:only-of-type {\n",
       "        vertical-align: middle;\n",
       "    }\n",
       "\n",
       "    .dataframe tbody tr th {\n",
       "        vertical-align: top;\n",
       "    }\n",
       "\n",
       "    .dataframe thead th {\n",
       "        text-align: right;\n",
       "    }\n",
       "</style>\n",
       "<table border=\"1\" class=\"dataframe\">\n",
       "  <thead>\n",
       "    <tr style=\"text-align: right;\">\n",
       "      <th></th>\n",
       "      <th>sale_price</th>\n",
       "      <th>Quantity</th>\n",
       "    </tr>\n",
       "    <tr>\n",
       "      <th>sale_date</th>\n",
       "      <th></th>\n",
       "      <th></th>\n",
       "    </tr>\n",
       "  </thead>\n",
       "  <tbody>\n",
       "    <tr>\n",
       "      <th>2009-01-31</th>\n",
       "      <td>109146.5</td>\n",
       "      <td>320.0</td>\n",
       "    </tr>\n",
       "    <tr>\n",
       "      <th>2009-02-28</th>\n",
       "      <td>45340.0</td>\n",
       "      <td>153.0</td>\n",
       "    </tr>\n",
       "    <tr>\n",
       "      <th>2009-03-31</th>\n",
       "      <td>82145.0</td>\n",
       "      <td>219.0</td>\n",
       "    </tr>\n",
       "    <tr>\n",
       "      <th>2009-04-30</th>\n",
       "      <td>123631.5</td>\n",
       "      <td>385.0</td>\n",
       "    </tr>\n",
       "    <tr>\n",
       "      <th>2009-05-31</th>\n",
       "      <td>85404.0</td>\n",
       "      <td>338.0</td>\n",
       "    </tr>\n",
       "  </tbody>\n",
       "</table>\n",
       "</div>"
      ],
      "text/plain": [
       "            sale_price  Quantity\n",
       "sale_date                       \n",
       "2009-01-31    109146.5     320.0\n",
       "2009-02-28     45340.0     153.0\n",
       "2009-03-31     82145.0     219.0\n",
       "2009-04-30    123631.5     385.0\n",
       "2009-05-31     85404.0     338.0"
      ]
     },
     "execution_count": 7,
     "metadata": {},
     "output_type": "execute_result"
    }
   ],
   "source": [
    "df[:5]"
   ]
  },
  {
   "cell_type": "code",
   "execution_count": 8,
   "metadata": {},
   "outputs": [
    {
     "data": {
      "text/plain": [
       "118"
      ]
     },
     "execution_count": 8,
     "metadata": {},
     "output_type": "execute_result"
    }
   ],
   "source": [
    "len(df)"
   ]
  },
  {
   "cell_type": "code",
   "execution_count": 9,
   "metadata": {},
   "outputs": [],
   "source": [
    "# 区间缩放\n",
    "values = df.values\n",
    "values = values.astype('float32')\n",
    "\n",
    "scaler = MinMaxScaler(feature_range=(0, 1))\n",
    "scaled = scaler.fit_transform(values)\n",
    "\n",
    "# frame as supervised learning\n",
    "reframed = series_to_supervised(scaled, 1, 1)\n",
    "\n",
    "valuess = reframed.values\n",
    "\n",
    "# 2018年所有数据是倒数44条的数据\n",
    "num_2018 = 10\n",
    "\n",
    "train = valuess[:(len(df)-num_2018-1), :]#513-45=468\n",
    "test = valuess[(len(df)-num_2018-1):, :]\n",
    "\n",
    "train_X, train_y = train[:, :-2], train[:, -2]\n",
    "test_X, test_y = test[:, :-2], test[:, -2]\n",
    "\n",
    "train_X = train_X.reshape((train_X.shape[0], 1, train_X.shape[1]))\n",
    "test_X = test_X.reshape((test_X.shape[0], 1, test_X.shape[1]))"
   ]
  },
  {
   "cell_type": "markdown",
   "metadata": {},
   "source": [
    "测试集         \n",
    "[销售额, 销售数量]"
   ]
  },
  {
   "cell_type": "code",
   "execution_count": 10,
   "metadata": {},
   "outputs": [],
   "source": [
    "# values[469:469+5]"
   ]
  },
  {
   "cell_type": "code",
   "execution_count": 11,
   "metadata": {},
   "outputs": [
    {
     "name": "stdout",
     "output_type": "stream",
     "text": [
      "Train on 107 samples, validate on 10 samples\n",
      "Epoch 1/100\n",
      " - 10s - loss: 0.4188 - val_loss: 0.2097\n",
      "Epoch 2/100\n",
      " - 0s - loss: 0.3513 - val_loss: 0.1502\n",
      "Epoch 3/100\n",
      " - 0s - loss: 0.2805 - val_loss: 0.0837\n",
      "Epoch 4/100\n",
      " - 0s - loss: 0.2088 - val_loss: 0.0561\n",
      "Epoch 5/100\n",
      " - 0s - loss: 0.1719 - val_loss: 0.0640\n",
      "Epoch 6/100\n",
      " - 0s - loss: 0.1530 - val_loss: 0.0851\n",
      "Epoch 7/100\n",
      " - 0s - loss: 0.1458 - val_loss: 0.1009\n",
      "Epoch 8/100\n",
      " - 0s - loss: 0.1454 - val_loss: 0.1024\n",
      "Epoch 9/100\n",
      " - 0s - loss: 0.1445 - val_loss: 0.0972\n",
      "Epoch 10/100\n",
      " - 0s - loss: 0.1423 - val_loss: 0.0900\n",
      "Epoch 11/100\n",
      " - 0s - loss: 0.1395 - val_loss: 0.0847\n",
      "Epoch 12/100\n",
      " - 0s - loss: 0.1364 - val_loss: 0.0829\n",
      "Epoch 13/100\n",
      " - 0s - loss: 0.1345 - val_loss: 0.0794\n",
      "Epoch 14/100\n",
      " - 0s - loss: 0.1325 - val_loss: 0.0759\n",
      "Epoch 15/100\n",
      " - 0s - loss: 0.1300 - val_loss: 0.0750\n",
      "Epoch 16/100\n",
      " - 0s - loss: 0.1278 - val_loss: 0.0755\n",
      "Epoch 17/100\n",
      " - 0s - loss: 0.1263 - val_loss: 0.0744\n",
      "Epoch 18/100\n",
      " - 0s - loss: 0.1247 - val_loss: 0.0734\n",
      "Epoch 19/100\n",
      " - 0s - loss: 0.1236 - val_loss: 0.0696\n",
      "Epoch 20/100\n",
      " - 0s - loss: 0.1227 - val_loss: 0.0660\n",
      "Epoch 21/100\n",
      " - 0s - loss: 0.1210 - val_loss: 0.0650\n",
      "Epoch 22/100\n",
      " - 0s - loss: 0.1199 - val_loss: 0.0641\n",
      "Epoch 23/100\n",
      " - 0s - loss: 0.1194 - val_loss: 0.0624\n",
      "Epoch 24/100\n",
      " - 0s - loss: 0.1186 - val_loss: 0.0604\n",
      "Epoch 25/100\n",
      " - 0s - loss: 0.1177 - val_loss: 0.0584\n",
      "Epoch 26/100\n",
      " - 0s - loss: 0.1169 - val_loss: 0.0563\n",
      "Epoch 27/100\n",
      " - 0s - loss: 0.1156 - val_loss: 0.0555\n",
      "Epoch 28/100\n",
      " - 0s - loss: 0.1150 - val_loss: 0.0538\n",
      "Epoch 29/100\n",
      " - 0s - loss: 0.1141 - val_loss: 0.0518\n",
      "Epoch 30/100\n",
      " - 0s - loss: 0.1127 - val_loss: 0.0512\n",
      "Epoch 31/100\n",
      " - 0s - loss: 0.1122 - val_loss: 0.0492\n",
      "Epoch 32/100\n",
      " - 0s - loss: 0.1109 - val_loss: 0.0482\n",
      "Epoch 33/100\n",
      " - 0s - loss: 0.1104 - val_loss: 0.0451\n",
      "Epoch 34/100\n",
      " - 0s - loss: 0.1093 - val_loss: 0.0432\n",
      "Epoch 35/100\n",
      " - 0s - loss: 0.1081 - val_loss: 0.0423\n",
      "Epoch 36/100\n",
      " - 0s - loss: 0.1074 - val_loss: 0.0416\n",
      "Epoch 37/100\n",
      " - 0s - loss: 0.1067 - val_loss: 0.0410\n",
      "Epoch 38/100\n",
      " - 0s - loss: 0.1061 - val_loss: 0.0400\n",
      "Epoch 39/100\n",
      " - 0s - loss: 0.1054 - val_loss: 0.0396\n",
      "Epoch 40/100\n",
      " - 0s - loss: 0.1046 - val_loss: 0.0405\n",
      "Epoch 41/100\n",
      " - 0s - loss: 0.1047 - val_loss: 0.0397\n",
      "Epoch 42/100\n",
      " - 0s - loss: 0.1041 - val_loss: 0.0386\n",
      "Epoch 43/100\n",
      " - 0s - loss: 0.1038 - val_loss: 0.0382\n",
      "Epoch 44/100\n",
      " - 0s - loss: 0.1034 - val_loss: 0.0375\n",
      "Epoch 45/100\n",
      " - 0s - loss: 0.1030 - val_loss: 0.0373\n",
      "Epoch 46/100\n",
      " - 0s - loss: 0.1028 - val_loss: 0.0370\n",
      "Epoch 47/100\n",
      " - 0s - loss: 0.1026 - val_loss: 0.0368\n",
      "Epoch 48/100\n",
      " - 0s - loss: 0.1021 - val_loss: 0.0366\n",
      "Epoch 49/100\n",
      " - 0s - loss: 0.1020 - val_loss: 0.0367\n",
      "Epoch 50/100\n",
      " - 0s - loss: 0.1016 - val_loss: 0.0364\n",
      "Epoch 51/100\n",
      " - 0s - loss: 0.1019 - val_loss: 0.0362\n",
      "Epoch 52/100\n",
      " - 0s - loss: 0.1008 - val_loss: 0.0364\n",
      "Epoch 53/100\n",
      " - 0s - loss: 0.1010 - val_loss: 0.0363\n",
      "Epoch 54/100\n",
      " - 0s - loss: 0.1007 - val_loss: 0.0360\n",
      "Epoch 55/100\n",
      " - 0s - loss: 0.1002 - val_loss: 0.0364\n",
      "Epoch 56/100\n",
      " - 0s - loss: 0.1000 - val_loss: 0.0366\n",
      "Epoch 57/100\n",
      " - 0s - loss: 0.1001 - val_loss: 0.0366\n",
      "Epoch 58/100\n",
      " - 0s - loss: 0.0998 - val_loss: 0.0369\n",
      "Epoch 59/100\n",
      " - 0s - loss: 0.0997 - val_loss: 0.0385\n",
      "Epoch 60/100\n",
      " - 0s - loss: 0.0996 - val_loss: 0.0386\n",
      "Epoch 61/100\n",
      " - 0s - loss: 0.0997 - val_loss: 0.0386\n",
      "Epoch 62/100\n",
      " - 0s - loss: 0.0991 - val_loss: 0.0399\n",
      "Epoch 63/100\n",
      " - 0s - loss: 0.0996 - val_loss: 0.0390\n",
      "Epoch 64/100\n",
      " - 0s - loss: 0.0989 - val_loss: 0.0412\n",
      "Epoch 65/100\n",
      " - 0s - loss: 0.0991 - val_loss: 0.0411\n",
      "Epoch 66/100\n",
      " - 0s - loss: 0.0990 - val_loss: 0.0405\n",
      "Epoch 67/100\n",
      " - 0s - loss: 0.0987 - val_loss: 0.0413\n",
      "Epoch 68/100\n",
      " - 0s - loss: 0.0987 - val_loss: 0.0408\n",
      "Epoch 69/100\n",
      " - 0s - loss: 0.0987 - val_loss: 0.0402\n",
      "Epoch 70/100\n",
      " - 0s - loss: 0.0984 - val_loss: 0.0410\n",
      "Epoch 71/100\n",
      " - 0s - loss: 0.0983 - val_loss: 0.0405\n",
      "Epoch 72/100\n",
      " - 0s - loss: 0.0983 - val_loss: 0.0399\n",
      "Epoch 73/100\n",
      " - 0s - loss: 0.0980 - val_loss: 0.0401\n",
      "Epoch 74/100\n",
      " - 0s - loss: 0.0980 - val_loss: 0.0394\n",
      "Epoch 75/100\n",
      " - 0s - loss: 0.0979 - val_loss: 0.0392\n",
      "Epoch 76/100\n",
      " - 0s - loss: 0.0977 - val_loss: 0.0389\n",
      "Epoch 77/100\n",
      " - 0s - loss: 0.0975 - val_loss: 0.0408\n",
      "Epoch 78/100\n",
      " - 0s - loss: 0.0978 - val_loss: 0.0383\n",
      "Epoch 79/100\n",
      " - 0s - loss: 0.0978 - val_loss: 0.0396\n",
      "Epoch 80/100\n",
      " - 0s - loss: 0.0973 - val_loss: 0.0404\n",
      "Epoch 81/100\n",
      " - 0s - loss: 0.0973 - val_loss: 0.0424\n",
      "Epoch 82/100\n",
      " - 0s - loss: 0.0976 - val_loss: 0.0399\n",
      "Epoch 83/100\n",
      " - 0s - loss: 0.0973 - val_loss: 0.0390\n",
      "Epoch 84/100\n",
      " - 0s - loss: 0.0975 - val_loss: 0.0405\n",
      "Epoch 85/100\n",
      " - 0s - loss: 0.0971 - val_loss: 0.0402\n",
      "Epoch 86/100\n",
      " - 0s - loss: 0.0972 - val_loss: 0.0414\n",
      "Epoch 87/100\n",
      " - 0s - loss: 0.0971 - val_loss: 0.0391\n",
      "Epoch 88/100\n",
      " - 0s - loss: 0.0977 - val_loss: 0.0393\n",
      "Epoch 89/100\n",
      " - 0s - loss: 0.0966 - val_loss: 0.0441\n",
      "Epoch 90/100\n",
      " - 0s - loss: 0.0973 - val_loss: 0.0403\n",
      "Epoch 91/100\n",
      " - 0s - loss: 0.0970 - val_loss: 0.0421\n",
      "Epoch 92/100\n",
      " - 0s - loss: 0.0969 - val_loss: 0.0420\n",
      "Epoch 93/100\n",
      " - 0s - loss: 0.0968 - val_loss: 0.0431\n",
      "Epoch 94/100\n",
      " - 0s - loss: 0.0970 - val_loss: 0.0408\n",
      "Epoch 95/100\n",
      " - 0s - loss: 0.0968 - val_loss: 0.0415\n",
      "Epoch 96/100\n",
      " - 0s - loss: 0.0967 - val_loss: 0.0434\n",
      "Epoch 97/100\n",
      " - 0s - loss: 0.0969 - val_loss: 0.0412\n",
      "Epoch 98/100\n",
      " - 0s - loss: 0.0967 - val_loss: 0.0419\n",
      "Epoch 99/100\n",
      " - 0s - loss: 0.0966 - val_loss: 0.0430\n",
      "Epoch 100/100\n",
      " - 0s - loss: 0.0968 - val_loss: 0.0424\n"
     ]
    }
   ],
   "source": [
    "model = Sequential()\n",
    "model.add(LSTM(50, input_shape=(train_X.shape[1], train_X.shape[2])))\n",
    "model.add(Dense(1))\n",
    "model.compile(loss='mae', optimizer='adam')\n",
    "\n",
    "history = model.fit(train_X, train_y, epochs=100, batch_size=8, validation_data=(test_X, test_y), verbose=2, shuffle=False)"
   ]
  },
  {
   "cell_type": "code",
   "execution_count": 12,
   "metadata": {},
   "outputs": [
    {
     "data": {
      "image/png": "[encoded data removed]",
      "text/plain": [
       "<Figure size 432x288 with 1 Axes>"
      ]
     },
     "metadata": {},
     "output_type": "display_data"
    }
   ],
   "source": [
    "# plot history\n",
    "plt.plot(history.history['loss'], label='train')\n",
    "plt.plot(history.history['val_loss'], label='test')\n",
    "plt.legend()\n",
    "plt.show()"
   ]
  },
  {
   "cell_type": "code",
   "execution_count": 13,
   "metadata": {},
   "outputs": [
    {
     "name": "stdout",
     "output_type": "stream",
     "text": [
      "[0.14729717]\n"
     ]
    }
   ],
   "source": [
    "yhat = model.predict(test_X)\n",
    "\n",
    "yhat.reshape((len(yhat), ))\n",
    "\n",
    "rmse = mean_squared_error01(test_y,yhat)\n",
    "error = sum(rmse)/len(test_y)\n",
    "\n",
    "print(error)"
   ]
  },
  {
   "cell_type": "markdown",
   "metadata": {},
   "source": [
    "##### 因为之前做了归一化，现在要将0-1的数据还原到原来的范围"
   ]
  },
  {
   "cell_type": "markdown",
   "metadata": {},
   "source": [
    "测试集          \n",
    "[销售额、销售数量]"
   ]
  },
  {
   "cell_type": "code",
   "execution_count": 17,
   "metadata": {},
   "outputs": [],
   "source": [
    "# values[469:469+5]"
   ]
  },
  {
   "cell_type": "code",
   "execution_count": 14,
   "metadata": {},
   "outputs": [],
   "source": [
    "# invert scaling for forecast\n",
    "test_X = test_X.reshape((test_X.shape[0], test_X.shape[2]))\n",
    "test_yy=test_y.reshape((len(test_y),1 ))\n",
    "\n",
    "inv_y = concatenate((test_yy, test_X[:, 1:]), axis=1)\n",
    "inv_y = scaler.inverse_transform(inv_y)"
   ]
  },
  {
   "cell_type": "code",
   "execution_count": 16,
   "metadata": {},
   "outputs": [
    {
     "data": {
      "text/plain": [
       "array([[3.2759e+04, 7.9000e+01],\n",
       "       [6.2791e+04, 4.1000e+01],\n",
       "       [5.1316e+04, 6.5000e+01],\n",
       "       [6.3851e+04, 6.9000e+01],\n",
       "       [6.5851e+04, 6.2000e+01]], dtype=float32)"
      ]
     },
     "execution_count": 16,
     "metadata": {},
     "output_type": "execute_result"
    }
   ],
   "source": [
    "# inv_y[:5]"
   ]
  },
  {
   "cell_type": "code",
   "execution_count": 15,
   "metadata": {},
   "outputs": [],
   "source": [
    "inv_ypred = concatenate((yhat, test_X[:, 1:]), axis=1)\n",
    "inv_ypred = scaler.inverse_transform(inv_ypred)"
   ]
  },
  {
   "cell_type": "code",
   "execution_count": 16,
   "metadata": {},
   "outputs": [],
   "source": [
    "# inv_ypred[:5]"
   ]
  },
  {
   "cell_type": "code",
   "execution_count": null,
   "metadata": {},
   "outputs": [],
   "source": []
  },
  {
   "cell_type": "code",
   "execution_count": 18,
   "metadata": {},
   "outputs": [
    {
     "data": {
      "text/plain": [
       "10"
      ]
     },
     "execution_count": 18,
     "metadata": {},
     "output_type": "execute_result"
    }
   ],
   "source": [
    "len(inv_y)"
   ]
  },
  {
   "cell_type": "markdown",
   "metadata": {},
   "source": [
    "预测2018年销售额的相对误差"
   ]
  },
  {
   "cell_type": "code",
   "execution_count": 23,
   "metadata": {},
   "outputs": [],
   "source": [
    "a1=sum(inv_y)"
   ]
  },
  {
   "cell_type": "code",
   "execution_count": 20,
   "metadata": {},
   "outputs": [
    {
     "data": {
      "text/plain": [
       "10"
      ]
     },
     "execution_count": 20,
     "metadata": {},
     "output_type": "execute_result"
    }
   ],
   "source": [
    "len(inv_ypred)"
   ]
  },
  {
   "cell_type": "code",
   "execution_count": 24,
   "metadata": {},
   "outputs": [],
   "source": [
    "a2=sum(inv_ypred)"
   ]
  },
  {
   "cell_type": "code",
   "execution_count": 25,
   "metadata": {},
   "outputs": [
    {
     "data": {
      "text/plain": [
       "array([0.12927845, 0.        ], dtype=float32)"
      ]
     },
     "execution_count": 25,
     "metadata": {},
     "output_type": "execute_result"
    }
   ],
   "source": [
    "abs(a1-a2)/a1"
   ]
  },
  {
   "cell_type": "code",
   "execution_count": null,
   "metadata": {},
   "outputs": [],
   "source": []
  }
 ],
 "metadata": {
  "kernelspec": {
   "display_name": "Python 3",
   "language": "python",
   "name": "python3"
  },
  "language_info": {
   "codemirror_mode": {
    "name": "ipython",
    "version": 3
   },
   "file_extension": ".py",
   "mimetype": "text/x-python",
   "name": "python",
   "nbconvert_exporter": "python",
   "pygments_lexer": "ipython3",
   "version": "3.5.5"
  }
 },
 "nbformat": 4,
 "nbformat_minor": 2
}
